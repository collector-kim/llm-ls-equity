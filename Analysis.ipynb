{
 "cells": [
  {
   "cell_type": "code",
   "execution_count": 361,
   "id": "edbd4f38-152b-42e1-8b45-85b505f04e5b",
   "metadata": {},
   "outputs": [],
   "source": [
    "import numpy as np\n",
    "import pandas as pd\n",
    "import matplotlib.dates as mdates\n",
    "import matplotlib.pyplot as plt\n",
    "\n",
    "from sklearn.metrics import f1_score, accuracy_score, mean_absolute_percentage_error\n",
    "from statsmodels.tsa.arima.model import ARIMA\n",
    "from statsmodels.tsa.holtwinters import SimpleExpSmoothing"
   ]
  },
  {
   "cell_type": "markdown",
   "id": "6fa83b0f-3401-4fe9-832e-f0268f33f1f9",
   "metadata": {},
   "source": [
    "# 1. Forcasting - LLM Time Series Forecasting vs. ARMIA / Exponantial Smoothing"
   ]
  },
  {
   "cell_type": "markdown",
   "id": "e00d5d92-a9e0-4538-8e22-4c1959d2997c",
   "metadata": {},
   "source": [
    "## 1.1 Prepare Dataset"
   ]
  },
  {
   "cell_type": "markdown",
   "id": "c44fb28c-3c9e-4f2a-b4fa-72b2dc065755",
   "metadata": {},
   "source": [
    "### LLM"
   ]
  },
  {
   "cell_type": "markdown",
   "id": "3a89ad26-8d80-4deb-b85d-eb16a9f2646c",
   "metadata": {},
   "source": [
    "'ALL_FORECAST.csv' contains price predicted by DeepSeek R1. LLM Input is 30 days worth of price data for each next day predicted price."
   ]
  },
  {
   "cell_type": "code",
   "execution_count": 102,
   "id": "44e438e0-6b58-4f0b-bd61-2f92921fed08",
   "metadata": {},
   "outputs": [
    {
     "data": {
      "text/html": [
       "<div>\n",
       "<style scoped>\n",
       "    .dataframe tbody tr th:only-of-type {\n",
       "        vertical-align: middle;\n",
       "    }\n",
       "\n",
       "    .dataframe tbody tr th {\n",
       "        vertical-align: top;\n",
       "    }\n",
       "\n",
       "    .dataframe thead th {\n",
       "        text-align: right;\n",
       "    }\n",
       "</style>\n",
       "<table border=\"1\" class=\"dataframe\">\n",
       "  <thead>\n",
       "    <tr style=\"text-align: right;\">\n",
       "      <th></th>\n",
       "      <th>estimated_price</th>\n",
       "      <th>last_date</th>\n",
       "      <th>last_close</th>\n",
       "      <th>estimated_date</th>\n",
       "      <th>ticker</th>\n",
       "    </tr>\n",
       "  </thead>\n",
       "  <tbody>\n",
       "    <tr>\n",
       "      <th>0</th>\n",
       "      <td>244.50</td>\n",
       "      <td>2024-04-02</td>\n",
       "      <td>243.739365</td>\n",
       "      <td>2024-04-03</td>\n",
       "      <td>ADP</td>\n",
       "    </tr>\n",
       "    <tr>\n",
       "      <th>1</th>\n",
       "      <td>242.50</td>\n",
       "      <td>2024-04-03</td>\n",
       "      <td>241.249420</td>\n",
       "      <td>2024-04-04</td>\n",
       "      <td>ADP</td>\n",
       "    </tr>\n",
       "    <tr>\n",
       "      <th>2</th>\n",
       "      <td>236.78</td>\n",
       "      <td>2024-04-04</td>\n",
       "      <td>237.667038</td>\n",
       "      <td>2024-04-05</td>\n",
       "      <td>ADP</td>\n",
       "    </tr>\n",
       "    <tr>\n",
       "      <th>3</th>\n",
       "      <td>242.50</td>\n",
       "      <td>2024-04-05</td>\n",
       "      <td>240.973862</td>\n",
       "      <td>2024-04-08</td>\n",
       "      <td>ADP</td>\n",
       "    </tr>\n",
       "    <tr>\n",
       "      <th>4</th>\n",
       "      <td>243.50</td>\n",
       "      <td>2024-04-08</td>\n",
       "      <td>242.735519</td>\n",
       "      <td>2024-04-09</td>\n",
       "      <td>ADP</td>\n",
       "    </tr>\n",
       "    <tr>\n",
       "      <th>...</th>\n",
       "      <td>...</td>\n",
       "      <td>...</td>\n",
       "      <td>...</td>\n",
       "      <td>...</td>\n",
       "      <td>...</td>\n",
       "    </tr>\n",
       "    <tr>\n",
       "      <th>22493</th>\n",
       "      <td>109.50</td>\n",
       "      <td>2025-02-07</td>\n",
       "      <td>108.889999</td>\n",
       "      <td>2025-02-10</td>\n",
       "      <td>XOM</td>\n",
       "    </tr>\n",
       "    <tr>\n",
       "      <th>22494</th>\n",
       "      <td>110.50</td>\n",
       "      <td>2025-02-10</td>\n",
       "      <td>109.986206</td>\n",
       "      <td>2025-02-11</td>\n",
       "      <td>XOM</td>\n",
       "    </tr>\n",
       "    <tr>\n",
       "      <th>22495</th>\n",
       "      <td>111.20</td>\n",
       "      <td>2025-02-11</td>\n",
       "      <td>110.680000</td>\n",
       "      <td>2025-02-12</td>\n",
       "      <td>XOM</td>\n",
       "    </tr>\n",
       "    <tr>\n",
       "      <th>22496</th>\n",
       "      <td>108.20</td>\n",
       "      <td>2025-02-12</td>\n",
       "      <td>107.349998</td>\n",
       "      <td>2025-02-13</td>\n",
       "      <td>XOM</td>\n",
       "    </tr>\n",
       "    <tr>\n",
       "      <th>22497</th>\n",
       "      <td>108.50</td>\n",
       "      <td>2025-02-13</td>\n",
       "      <td>108.129997</td>\n",
       "      <td>2025-02-14</td>\n",
       "      <td>XOM</td>\n",
       "    </tr>\n",
       "  </tbody>\n",
       "</table>\n",
       "<p>22498 rows × 5 columns</p>\n",
       "</div>"
      ],
      "text/plain": [
       "       estimated_price   last_date  last_close estimated_date ticker\n",
       "0               244.50  2024-04-02  243.739365     2024-04-03    ADP\n",
       "1               242.50  2024-04-03  241.249420     2024-04-04    ADP\n",
       "2               236.78  2024-04-04  237.667038     2024-04-05    ADP\n",
       "3               242.50  2024-04-05  240.973862     2024-04-08    ADP\n",
       "4               243.50  2024-04-08  242.735519     2024-04-09    ADP\n",
       "...                ...         ...         ...            ...    ...\n",
       "22493           109.50  2025-02-07  108.889999     2025-02-10    XOM\n",
       "22494           110.50  2025-02-10  109.986206     2025-02-11    XOM\n",
       "22495           111.20  2025-02-11  110.680000     2025-02-12    XOM\n",
       "22496           108.20  2025-02-12  107.349998     2025-02-13    XOM\n",
       "22497           108.50  2025-02-13  108.129997     2025-02-14    XOM\n",
       "\n",
       "[22498 rows x 5 columns]"
      ]
     },
     "execution_count": 102,
     "metadata": {},
     "output_type": "execute_result"
    }
   ],
   "source": [
    "df = pd.read_csv('ALL_FORECAST.csv')\n",
    "df"
   ]
  },
  {
   "cell_type": "markdown",
   "id": "4eb91e7a-06af-4bbe-930b-e59c2b381edf",
   "metadata": {},
   "source": [
    "### ARIMA"
   ]
  },
  {
   "cell_type": "code",
   "execution_count": 103,
   "id": "6f02d718-a369-4737-b619-3ba1f4ebb4fa",
   "metadata": {},
   "outputs": [],
   "source": [
    "def arima_forecasts(df, window=30, order=(3, 1, 0)):\n",
    "    rows = []\n",
    "\n",
    "    for ticker, g in df.groupby(\"ticker\"):\n",
    "        g = g.sort_values(\"last_date\").reset_index(drop=True)\n",
    "\n",
    "        closes = g[\"last_close\"].values\n",
    "        dates  = g[\"last_date\"].values\n",
    "\n",
    "        for i in range(window, len(g)):\n",
    "            train_y = closes[i-window:i]\n",
    "\n",
    "            model   = ARIMA(train_y, order=order)\n",
    "            y_hat   = model.fit().forecast(steps=1)[0]\n",
    "\n",
    "            data = {\n",
    "                \"ticker\"         : ticker,\n",
    "                \"last_date\"      : dates[i-1],   # yesterday\n",
    "                \"last_close\"     : closes[i-1],  # yesterday’s close\n",
    "                \"estimated_date\" : dates[i],     # today\n",
    "                \"estimated_price\": y_hat\n",
    "            }\n",
    "\n",
    "            rows.append(data)\n",
    "\n",
    "    return pd.DataFrame(rows)"
   ]
  },
  {
   "cell_type": "code",
   "execution_count": 104,
   "id": "e3c407b6-48fc-4283-b334-83e49d0eb58e",
   "metadata": {},
   "outputs": [
    {
     "name": "stderr",
     "output_type": "stream",
     "text": [
      "/Users/taehokim/Coding/llm-ls-equity/venv/lib/python3.11/site-packages/statsmodels/tsa/statespace/sarimax.py:966: UserWarning: Non-stationary starting autoregressive parameters found. Using zeros as starting parameters.\n",
      "  warn('Non-stationary starting autoregressive parameters'\n",
      "/Users/taehokim/Coding/llm-ls-equity/venv/lib/python3.11/site-packages/statsmodels/base/model.py:607: ConvergenceWarning: Maximum Likelihood optimization failed to converge. Check mle_retvals\n",
      "  warnings.warn(\"Maximum Likelihood optimization failed to \"\n",
      "/Users/taehokim/Coding/llm-ls-equity/venv/lib/python3.11/site-packages/statsmodels/base/model.py:607: ConvergenceWarning: Maximum Likelihood optimization failed to converge. Check mle_retvals\n",
      "  warnings.warn(\"Maximum Likelihood optimization failed to \"\n"
     ]
    }
   ],
   "source": [
    "arima_df = arima_forecasts(df)"
   ]
  },
  {
   "cell_type": "markdown",
   "id": "ac5564a8-345e-447d-aa56-594b45276bd0",
   "metadata": {},
   "source": [
    "### Exponential Smoothing"
   ]
  },
  {
   "cell_type": "code",
   "execution_count": 171,
   "id": "09ea1117-2221-42c0-aa8b-33837bb6d534",
   "metadata": {},
   "outputs": [],
   "source": [
    "def ses_forecasts(df, window=30, alpha=None):\n",
    "    \"\"\"\n",
    "    Walk-forward one-day-ahead forecasts with Simple Exponential Smoothing.\n",
    "\n",
    "    Parameters\n",
    "    ----------\n",
    "    df : DataFrame\n",
    "        Must contain 'ticker', 'last_date', 'last_close' columns.\n",
    "        Dates stay as plain strings.\n",
    "    window : int, default 30\n",
    "        How many past closes each fit sees (same as ARIMA window).\n",
    "    alpha : float in (0,1] or None\n",
    "        Smoothing level.  If None, statsmodels chooses the\n",
    "        alpha that minimises in-sample SSE for each rolling fit.\n",
    "\n",
    "    Returns\n",
    "    -------\n",
    "    DataFrame with columns\n",
    "        ticker | last_date | last_close | estimated_date | estimated_price | model\n",
    "    \"\"\"\n",
    "    rows = []\n",
    "\n",
    "    for ticker, g in df.groupby(\"ticker\"):\n",
    "        g = g.sort_values(\"last_date\").reset_index(drop=True)\n",
    "        closes = g[\"last_close\"].values.astype(float)\n",
    "        dates  = g[\"last_date\"].values          # remain strings\n",
    "\n",
    "        # walk forward: yesterday = index t, predict index t+1\n",
    "        for t in range(window, len(closes) - 1):\n",
    "            train_y = closes[t - window : t]    # previous `window` closes\n",
    "\n",
    "            model  = SimpleExpSmoothing(train_y, initialization_method=\"estimated\")\n",
    "            fitted = model.fit(smoothing_level=alpha, optimized=(alpha is None))\n",
    "            y_hat  = float(fitted.forecast(1)[0])\n",
    "\n",
    "            data = {\n",
    "                \"ticker\"         : ticker,\n",
    "                \"last_date\"      : dates[t],      # yesterday (known)\n",
    "                \"last_close\"     : closes[t],\n",
    "                \"estimated_date\" : dates[t + 1],  # today  (predicted)\n",
    "                \"estimated_price\": y_hat,\n",
    "                \"model\"          : \"SES\"\n",
    "            }\n",
    "            \n",
    "            rows.append(data)\n",
    "\n",
    "    return pd.DataFrame(rows)"
   ]
  },
  {
   "cell_type": "code",
   "execution_count": 172,
   "id": "53b14da9-2d26-4fd2-87a1-088c7c77abb7",
   "metadata": {},
   "outputs": [],
   "source": [
    "ses_df = ses_forecasts(df)"
   ]
  },
  {
   "cell_type": "markdown",
   "id": "907459e7-67c8-45a2-b002-fbadfa5526ef",
   "metadata": {},
   "source": [
    "## 1.2 Evaluation"
   ]
  },
  {
   "cell_type": "markdown",
   "id": "12483c22-a9ae-4517-a442-1bb4a1e3b318",
   "metadata": {},
   "source": [
    "To compute accuracy, and F1-score, we introduce binary labels"
   ]
  },
  {
   "cell_type": "markdown",
   "id": "245fe7c6-b802-4403-8b10-9fe28bcf2827",
   "metadata": {},
   "source": [
    "\\begin{cases}\n",
    "1 & \\text{if } P_t \\;>\\; P_{t-1} \\\\[6pt]\n",
    "0 & \\text{otherwise}\n",
    "\\end{cases}"
   ]
  },
  {
   "cell_type": "markdown",
   "id": "a175bb8a-542d-4a0b-83d4-3b9c4e7eece9",
   "metadata": {},
   "source": [
    "### LLM"
   ]
  },
  {
   "cell_type": "code",
   "execution_count": 107,
   "id": "d2afe13c-4f25-4744-8429-d1c827462124",
   "metadata": {},
   "outputs": [],
   "source": [
    "df = df.sort_values([\"ticker\", \"last_date\"]).copy()\n",
    "\n",
    "df[\"actual_close\"] = df.groupby(\"ticker\")[\"last_close\"].shift(-1)\n",
    "\n",
    "df = df.dropna(subset=[\"actual_close\"])\n",
    "\n",
    "# binary labels\n",
    "df[\"actual_up\"] = (df[\"actual_close\"] > df[\"last_close\"]).astype(int)\n",
    "df[\"pred_up\"]   = (df[\"estimated_price\"] > df[\"last_close\"]).astype(int)"
   ]
  },
  {
   "cell_type": "markdown",
   "id": "9e3d8ce6-6793-480e-b186-90937a095245",
   "metadata": {},
   "source": [
    "### ARIMA"
   ]
  },
  {
   "cell_type": "code",
   "execution_count": 109,
   "id": "003c9941-d7fa-4a5b-9753-bf385b00e37f",
   "metadata": {},
   "outputs": [],
   "source": [
    "arima_df = arima_df.sort_values([\"ticker\", \"last_date\"]).copy()\n",
    "\n",
    "arima_df[\"actual_close\"] = arima_df.groupby(\"ticker\")[\"last_close\"].shift(-1)\n",
    "\n",
    "arima_df = arima_df.dropna(subset=[\"actual_close\"])\n",
    "\n",
    "arima_df[\"actual_up\"] = (arima_df[\"actual_close\"] > arima_df[\"last_close\"]).astype(int)\n",
    "arima_df[\"pred_up\"]   = (arima_df[\"estimated_price\"] > arima_df[\"last_close\"]).astype(int)"
   ]
  },
  {
   "cell_type": "markdown",
   "id": "c3e156a5-5157-4179-b624-9117e9f9ab23",
   "metadata": {},
   "source": [
    "### Exponential Soothing"
   ]
  },
  {
   "cell_type": "code",
   "execution_count": 173,
   "id": "da345910-8cac-4799-bc46-df5549fcdc7f",
   "metadata": {},
   "outputs": [],
   "source": [
    "ses_df = ses_df.sort_values([\"ticker\", \"last_date\"]).copy()\n",
    "\n",
    "ses_df[\"actual_close\"] = ses_df.groupby(\"ticker\")[\"last_close\"].shift(-1)\n",
    "\n",
    "ses_df = ses_df.dropna(subset=[\"actual_close\"])\n",
    "\n",
    "ses_df[\"actual_up\"] = (ses_df[\"actual_close\"] > ses_df[\"last_close\"]).astype(int)\n",
    "ses_df[\"pred_up\"]   = (ses_df[\"estimated_price\"] > ses_df[\"last_close\"]).astype(int)"
   ]
  },
  {
   "cell_type": "markdown",
   "id": "bde010be-e44f-4de2-baea-94fe4f4c7eaa",
   "metadata": {},
   "source": [
    "### 1.2.1 Accuracy"
   ]
  },
  {
   "cell_type": "markdown",
   "id": "87fd743f-6a4e-41c6-8cc6-d4702f204c96",
   "metadata": {},
   "source": [
    "### LLM"
   ]
  },
  {
   "cell_type": "code",
   "execution_count": 390,
   "id": "298062e6-90ec-4fcb-af15-19b46313414a",
   "metadata": {},
   "outputs": [
    {
     "data": {
      "text/plain": [
       "0.03427944140694705"
      ]
     },
     "execution_count": 390,
     "metadata": {},
     "output_type": "execute_result"
    }
   ],
   "source": [
    "acc_by_ticker_llm = (\n",
    "    df.groupby(\"ticker\")[[\"actual_up\", \"pred_up\"]]\n",
    "      .apply(lambda g: accuracy_score(g[\"actual_up\"], g[\"pred_up\"]),\n",
    "            include_groups=False)\n",
    "      .rename(\"accuracy\")\n",
    "      .reset_index()\n",
    ")\n",
    "acc_by_ticker_llm['accuracy'].std()"
   ]
  },
  {
   "cell_type": "code",
   "execution_count": 379,
   "id": "8a91d306-5514-48b5-a35c-b97430483b0f",
   "metadata": {},
   "outputs": [
    {
     "data": {
      "image/png": "[encoded data removed]",
      "text/plain": [
       "<Figure size 800x200 with 1 Axes>"
      ]
     },
     "metadata": {},
     "output_type": "display_data"
    }
   ],
   "source": [
    "plt.figure(figsize=(8, 2))\n",
    "plt.plot(acc_by_ticker_llm[\"accuracy\"], [1]*len(acc_by_ticker_llm), 'o', alpha=0.7)\n",
    "plt.yticks([])  # Remove y-axis ticks\n",
    "plt.xlabel(\"Accuracy\")\n",
    "plt.title(\"Distribution of LLM Accuracy Across Tickers\")\n",
    "plt.grid(axis='x', linestyle='--', alpha=0.5)\n",
    "plt.tight_layout()\n",
    "plt.show()"
   ]
  },
  {
   "cell_type": "code",
   "execution_count": 387,
   "id": "a68f23f5-0823-4684-8573-c030f77a2596",
   "metadata": {
    "scrolled": true
   },
   "outputs": [
    {
     "name": "stdout",
     "output_type": "stream",
     "text": [
      "Overall Accuracy (LLM): 0.5100\n"
     ]
    }
   ],
   "source": [
    "overall_acc_llm = accuracy_score(df[\"actual_up\"], df[\"pred_up\"])\n",
    "print(f\"Overall Accuracy (LLM): {overall_acc_llm:.4f}\")"
   ]
  },
  {
   "cell_type": "markdown",
   "id": "687edfb4-002a-4f55-8ef6-a60560e6f410",
   "metadata": {},
   "source": [
    "### ARIMA"
   ]
  },
  {
   "cell_type": "code",
   "execution_count": 389,
   "id": "0d90e082-3fe0-4f2d-91dd-491663655a43",
   "metadata": {},
   "outputs": [
    {
     "data": {
      "text/plain": [
       "0.03520954754117428"
      ]
     },
     "execution_count": 389,
     "metadata": {},
     "output_type": "execute_result"
    }
   ],
   "source": [
    "acc_by_ticker_arima = (\n",
    "    arima_df.groupby(\"ticker\")[[\"actual_up\", \"pred_up\"]]\n",
    "      .apply(lambda g: accuracy_score(g[\"actual_up\"], g[\"pred_up\"]),\n",
    "            include_groups=False)\n",
    "      .rename(\"accuracy\")\n",
    "      .reset_index()\n",
    ")\n",
    "acc_by_ticker_arima['accuracy'].std()"
   ]
  },
  {
   "cell_type": "code",
   "execution_count": 383,
   "id": "3a1d8fc9-0cf1-42d7-92b8-e4054269e351",
   "metadata": {},
   "outputs": [
    {
     "name": "stdout",
     "output_type": "stream",
     "text": [
      "Overall Accuracy (ARIMA): 0.4974\n"
     ]
    }
   ],
   "source": [
    "overall_acc_arima = accuracy_score(arima_df[\"actual_up\"], arima_df[\"pred_up\"])\n",
    "print(f\"Overall Accuracy (ARIMA): {overall_acc_arima:.4f}\")"
   ]
  },
  {
   "cell_type": "markdown",
   "id": "c348e88b-316d-4155-9bd3-c650d32cbca7",
   "metadata": {},
   "source": [
    "### Exponential Smoothing"
   ]
  },
  {
   "cell_type": "code",
   "execution_count": 392,
   "id": "8328125b-1ced-4428-9c5d-b17fc2139bdd",
   "metadata": {},
   "outputs": [
    {
     "data": {
      "text/plain": [
       "0.034581082207362425"
      ]
     },
     "execution_count": 392,
     "metadata": {},
     "output_type": "execute_result"
    }
   ],
   "source": [
    "acc_by_ticker_ses = (\n",
    "    ses_df.groupby(\"ticker\")[[\"actual_up\", \"pred_up\"]]\n",
    "      .apply(lambda g: accuracy_score(g[\"actual_up\"], g[\"pred_up\"]),\n",
    "            include_groups=False)\n",
    "      .rename(\"accuracy\")\n",
    "      .reset_index()\n",
    ")\n",
    "acc_by_ticker_ses['accuracy'].std()"
   ]
  },
  {
   "cell_type": "code",
   "execution_count": 384,
   "id": "87d9e905-a16f-471f-bd4b-15a0953ea95f",
   "metadata": {},
   "outputs": [
    {
     "name": "stdout",
     "output_type": "stream",
     "text": [
      "Overall Accuracy (Exponential Smoothing): 0.4989\n"
     ]
    }
   ],
   "source": [
    "overall_acc_ses = accuracy_score(ses_df[\"actual_up\"], ses_df[\"pred_up\"])\n",
    "print(f\"Overall Accuracy (Exponential Smoothing): {overall_acc_ses:.4f}\")"
   ]
  },
  {
   "cell_type": "code",
   "execution_count": 380,
   "id": "837b421b-1018-4f96-b863-b18c1a5db6c5",
   "metadata": {},
   "outputs": [],
   "source": [
    "acc_by_ticker_llm['model'] = 'LLM'\n",
    "acc_by_ticker_arima['model'] = 'ARIMA'\n",
    "acc_by_ticker_ses['model'] = 'SES'"
   ]
  },
  {
   "cell_type": "code",
   "execution_count": 382,
   "id": "b0043204-785c-4ee3-9a4a-7fcc43080b02",
   "metadata": {},
   "outputs": [
    {
     "data": {
      "image/png": "[encoded data removed]",
      "text/plain": [
       "<Figure size 1000x400 with 1 Axes>"
      ]
     },
     "metadata": {},
     "output_type": "display_data"
    }
   ],
   "source": [
    "df_all = pd.concat([acc_by_ticker_llm, acc_by_ticker_arima, acc_by_ticker_ses], ignore_index=True)\n",
    "\n",
    "model_order = ['SES', 'ARIMA', 'LLM']\n",
    "model_to_y = {model: i for i, model in enumerate(model_order)}\n",
    "\n",
    "plt.figure(figsize=(10, 4))\n",
    "for model in model_order:\n",
    "    model_data = df_all[df_all[\"model\"] == model]\n",
    "    y = [model_to_y[model]] * len(model_data)\n",
    "    plt.plot(model_data[\"accuracy\"], y, 'o', label=model, alpha=0.7)\n",
    "\n",
    "plt.yticks(range(len(model_order)), model_order)\n",
    "plt.xlabel(\"Accuracy\")\n",
    "plt.title(\"Accuracy Distribution by Model Across Tickers\")\n",
    "plt.grid(axis='x', linestyle='--', alpha=0.5)\n",
    "plt.tight_layout()\n",
    "plt.savefig(\"accuracy_comparison.png\", dpi=300)  # Save as high-resolution PNG\n",
    "plt.show()"
   ]
  },
  {
   "cell_type": "markdown",
   "id": "61be2ef0-9460-44f1-b0a4-e70036fcda33",
   "metadata": {},
   "source": [
    "### 1.2.2 F1-score"
   ]
  },
  {
   "cell_type": "markdown",
   "id": "0712a13e-9179-4cf7-b222-222815400268",
   "metadata": {},
   "source": [
    "### LLM"
   ]
  },
  {
   "cell_type": "code",
   "execution_count": 416,
   "id": "28e9ead0-c135-407e-b2b9-bc3699bc2552",
   "metadata": {},
   "outputs": [
    {
     "data": {
      "text/plain": [
       "0.05352183433751366"
      ]
     },
     "execution_count": 416,
     "metadata": {},
     "output_type": "execute_result"
    }
   ],
   "source": [
    "scores_result_llm = (\n",
    "    df.groupby(\"ticker\")\n",
    "      .apply(lambda g: f1_score(g[\"actual_up\"], g[\"pred_up\"]),\n",
    "            include_groups=False)\n",
    "      .rename(\"f1_score\")\n",
    "      .reset_index()\n",
    ")\n",
    "scores_result_llm['model'] = 'LLM'\n",
    "scores_result_llm['f1_score'].std()"
   ]
  },
  {
   "cell_type": "code",
   "execution_count": 410,
   "id": "1a91a6e7-0eda-44a3-970a-e59797c6ad9e",
   "metadata": {},
   "outputs": [
    {
     "name": "stdout",
     "output_type": "stream",
     "text": [
      "Overall F1 score (LLM): 0.5891\n"
     ]
    }
   ],
   "source": [
    "overall_f1_llm = f1_score(df[\"actual_up\"], df[\"pred_up\"])\n",
    "print(f\"Overall F1 score (LLM): {overall_f1_llm:.4f}\")"
   ]
  },
  {
   "cell_type": "markdown",
   "id": "710a7ced-d1f8-4de5-9258-95b6f6cf7a2d",
   "metadata": {},
   "source": [
    "### ARIMA"
   ]
  },
  {
   "cell_type": "code",
   "execution_count": 415,
   "id": "d7fc5a11-6f5b-4a34-a400-9df87be20720",
   "metadata": {},
   "outputs": [
    {
     "data": {
      "text/html": [
       "<div>\n",
       "<style scoped>\n",
       "    .dataframe tbody tr th:only-of-type {\n",
       "        vertical-align: middle;\n",
       "    }\n",
       "\n",
       "    .dataframe tbody tr th {\n",
       "        vertical-align: top;\n",
       "    }\n",
       "\n",
       "    .dataframe thead th {\n",
       "        text-align: right;\n",
       "    }\n",
       "</style>\n",
       "<table border=\"1\" class=\"dataframe\">\n",
       "  <thead>\n",
       "    <tr style=\"text-align: right;\">\n",
       "      <th></th>\n",
       "      <th>ticker</th>\n",
       "      <th>f1_score</th>\n",
       "      <th>model</th>\n",
       "    </tr>\n",
       "  </thead>\n",
       "  <tbody>\n",
       "    <tr>\n",
       "      <th>0</th>\n",
       "      <td>AAPL</td>\n",
       "      <td>0.517413</td>\n",
       "      <td>ARIMA</td>\n",
       "    </tr>\n",
       "    <tr>\n",
       "      <th>1</th>\n",
       "      <td>ABBV</td>\n",
       "      <td>0.540816</td>\n",
       "      <td>ARIMA</td>\n",
       "    </tr>\n",
       "    <tr>\n",
       "      <th>2</th>\n",
       "      <td>ABNB</td>\n",
       "      <td>0.538071</td>\n",
       "      <td>ARIMA</td>\n",
       "    </tr>\n",
       "    <tr>\n",
       "      <th>3</th>\n",
       "      <td>ABT</td>\n",
       "      <td>0.543590</td>\n",
       "      <td>ARIMA</td>\n",
       "    </tr>\n",
       "    <tr>\n",
       "      <th>4</th>\n",
       "      <td>ACN</td>\n",
       "      <td>0.490000</td>\n",
       "      <td>ARIMA</td>\n",
       "    </tr>\n",
       "    <tr>\n",
       "      <th>...</th>\n",
       "      <td>...</td>\n",
       "      <td>...</td>\n",
       "      <td>...</td>\n",
       "    </tr>\n",
       "    <tr>\n",
       "      <th>99</th>\n",
       "      <td>PYPL</td>\n",
       "      <td>0.543590</td>\n",
       "      <td>ARIMA</td>\n",
       "    </tr>\n",
       "    <tr>\n",
       "      <th>100</th>\n",
       "      <td>SCHW</td>\n",
       "      <td>0.532020</td>\n",
       "      <td>ARIMA</td>\n",
       "    </tr>\n",
       "    <tr>\n",
       "      <th>101</th>\n",
       "      <td>SOFI</td>\n",
       "      <td>0.536585</td>\n",
       "      <td>ARIMA</td>\n",
       "    </tr>\n",
       "    <tr>\n",
       "      <th>102</th>\n",
       "      <td>T</td>\n",
       "      <td>0.535354</td>\n",
       "      <td>ARIMA</td>\n",
       "    </tr>\n",
       "    <tr>\n",
       "      <th>103</th>\n",
       "      <td>XOM</td>\n",
       "      <td>0.494737</td>\n",
       "      <td>ARIMA</td>\n",
       "    </tr>\n",
       "  </tbody>\n",
       "</table>\n",
       "<p>104 rows × 3 columns</p>\n",
       "</div>"
      ],
      "text/plain": [
       "    ticker  f1_score  model\n",
       "0     AAPL  0.517413  ARIMA\n",
       "1     ABBV  0.540816  ARIMA\n",
       "2     ABNB  0.538071  ARIMA\n",
       "3      ABT  0.543590  ARIMA\n",
       "4      ACN  0.490000  ARIMA\n",
       "..     ...       ...    ...\n",
       "99    PYPL  0.543590  ARIMA\n",
       "100   SCHW  0.532020  ARIMA\n",
       "101   SOFI  0.536585  ARIMA\n",
       "102      T  0.535354  ARIMA\n",
       "103    XOM  0.494737  ARIMA\n",
       "\n",
       "[104 rows x 3 columns]"
      ]
     },
     "execution_count": 415,
     "metadata": {},
     "output_type": "execute_result"
    }
   ],
   "source": [
    "scores_result_arima = (\n",
    "    arima_df.groupby(\"ticker\")\n",
    "      .apply(lambda g: f1_score(g[\"actual_up\"], g[\"pred_up\"]),\n",
    "            include_groups=False)\n",
    "      .rename(\"f1_score\")\n",
    "      .reset_index()\n",
    ")\n",
    "scores_result_arima['model'] = 'ARIMA'\n",
    "scores_result_arima"
   ]
  },
  {
   "cell_type": "code",
   "execution_count": 411,
   "id": "ffc4b190-b830-4af4-9fe9-20d83a9f40ae",
   "metadata": {},
   "outputs": [
    {
     "name": "stdout",
     "output_type": "stream",
     "text": [
      "Overall F1 score (ARIMA): 0.5200\n"
     ]
    }
   ],
   "source": [
    "overall_f1_arima = f1_score(arima_df[\"actual_up\"], arima_df[\"pred_up\"])\n",
    "print(f\"Overall F1 score (ARIMA): {overall_f1_arima:.4f}\")"
   ]
  },
  {
   "cell_type": "markdown",
   "id": "6622716e-d425-47ac-8989-674d4f5c609c",
   "metadata": {},
   "source": [
    "### Exponential Smoothing"
   ]
  },
  {
   "cell_type": "code",
   "execution_count": 413,
   "id": "71e61aec-ad3d-4cc5-a471-30e622ed2696",
   "metadata": {},
   "outputs": [
    {
     "data": {
      "text/html": [
       "<div>\n",
       "<style scoped>\n",
       "    .dataframe tbody tr th:only-of-type {\n",
       "        vertical-align: middle;\n",
       "    }\n",
       "\n",
       "    .dataframe tbody tr th {\n",
       "        vertical-align: top;\n",
       "    }\n",
       "\n",
       "    .dataframe thead th {\n",
       "        text-align: right;\n",
       "    }\n",
       "</style>\n",
       "<table border=\"1\" class=\"dataframe\">\n",
       "  <thead>\n",
       "    <tr style=\"text-align: right;\">\n",
       "      <th></th>\n",
       "      <th>ticker</th>\n",
       "      <th>f1_score</th>\n",
       "      <th>model</th>\n",
       "    </tr>\n",
       "  </thead>\n",
       "  <tbody>\n",
       "    <tr>\n",
       "      <th>0</th>\n",
       "      <td>AAPL</td>\n",
       "      <td>0.494624</td>\n",
       "      <td>SES</td>\n",
       "    </tr>\n",
       "    <tr>\n",
       "      <th>1</th>\n",
       "      <td>ABBV</td>\n",
       "      <td>0.508108</td>\n",
       "      <td>SES</td>\n",
       "    </tr>\n",
       "    <tr>\n",
       "      <th>2</th>\n",
       "      <td>ABNB</td>\n",
       "      <td>0.582011</td>\n",
       "      <td>SES</td>\n",
       "    </tr>\n",
       "    <tr>\n",
       "      <th>3</th>\n",
       "      <td>ABT</td>\n",
       "      <td>0.489130</td>\n",
       "      <td>SES</td>\n",
       "    </tr>\n",
       "    <tr>\n",
       "      <th>4</th>\n",
       "      <td>ACN</td>\n",
       "      <td>0.491979</td>\n",
       "      <td>SES</td>\n",
       "    </tr>\n",
       "    <tr>\n",
       "      <th>...</th>\n",
       "      <td>...</td>\n",
       "      <td>...</td>\n",
       "      <td>...</td>\n",
       "    </tr>\n",
       "    <tr>\n",
       "      <th>99</th>\n",
       "      <td>PYPL</td>\n",
       "      <td>0.536842</td>\n",
       "      <td>SES</td>\n",
       "    </tr>\n",
       "    <tr>\n",
       "      <th>100</th>\n",
       "      <td>SCHW</td>\n",
       "      <td>0.483871</td>\n",
       "      <td>SES</td>\n",
       "    </tr>\n",
       "    <tr>\n",
       "      <th>101</th>\n",
       "      <td>SOFI</td>\n",
       "      <td>0.456522</td>\n",
       "      <td>SES</td>\n",
       "    </tr>\n",
       "    <tr>\n",
       "      <th>102</th>\n",
       "      <td>T</td>\n",
       "      <td>0.443182</td>\n",
       "      <td>SES</td>\n",
       "    </tr>\n",
       "    <tr>\n",
       "      <th>103</th>\n",
       "      <td>XOM</td>\n",
       "      <td>0.464865</td>\n",
       "      <td>SES</td>\n",
       "    </tr>\n",
       "  </tbody>\n",
       "</table>\n",
       "<p>104 rows × 3 columns</p>\n",
       "</div>"
      ],
      "text/plain": [
       "    ticker  f1_score model\n",
       "0     AAPL  0.494624   SES\n",
       "1     ABBV  0.508108   SES\n",
       "2     ABNB  0.582011   SES\n",
       "3      ABT  0.489130   SES\n",
       "4      ACN  0.491979   SES\n",
       "..     ...       ...   ...\n",
       "99    PYPL  0.536842   SES\n",
       "100   SCHW  0.483871   SES\n",
       "101   SOFI  0.456522   SES\n",
       "102      T  0.443182   SES\n",
       "103    XOM  0.464865   SES\n",
       "\n",
       "[104 rows x 3 columns]"
      ]
     },
     "execution_count": 413,
     "metadata": {},
     "output_type": "execute_result"
    }
   ],
   "source": [
    "scores_result_ses = (\n",
    "    ses_df.groupby(\"ticker\")\n",
    "      .apply(lambda g: f1_score(g[\"actual_up\"], g[\"pred_up\"]),\n",
    "            include_groups=False)\n",
    "      .rename(\"f1_score\")\n",
    "      .reset_index()\n",
    ")\n",
    "scores_result_ses['model'] = 'SES'\n",
    "scores_result_ses"
   ]
  },
  {
   "cell_type": "code",
   "execution_count": 409,
   "id": "337b2aa1-4bda-41a0-9f73-7d7941f15c91",
   "metadata": {},
   "outputs": [
    {
     "name": "stdout",
     "output_type": "stream",
     "text": [
      "Overall F1 score (SES): 0.4964\n"
     ]
    }
   ],
   "source": [
    "overall_f1_ses = f1_score(ses_df[\"actual_up\"], ses_df[\"pred_up\"])\n",
    "print(f\"Overall F1 score (SES): {overall_f1_ses:.4f}\")"
   ]
  },
  {
   "cell_type": "code",
   "execution_count": 407,
   "id": "18f0f0b0-cb8a-4c3f-9e69-dc1d0d471734",
   "metadata": {},
   "outputs": [
    {
     "data": {
      "image/png": "[encoded data removed]",
      "text/plain": [
       "<Figure size 1000x400 with 1 Axes>"
      ]
     },
     "metadata": {},
     "output_type": "display_data"
    }
   ],
   "source": [
    "df_all = pd.concat([scores_result_llm, scores_result_arima, scores_result_ses], ignore_index=True)\n",
    "\n",
    "model_order = ['SES', 'ARIMA', 'LLM']\n",
    "model_to_y = {model: i for i, model in enumerate(model_order)}\n",
    "\n",
    "plt.figure(figsize=(10, 4))\n",
    "for model in model_order:\n",
    "    model_data = df_all[df_all[\"model\"] == model]\n",
    "    y = [model_to_y[model]] * len(model_data)\n",
    "    plt.plot(model_data[\"f1_score\"], y, 'o', label=model, alpha=0.7)\n",
    "\n",
    "plt.yticks(range(len(model_order)), model_order)\n",
    "plt.xlabel(\"F1-Score\")\n",
    "plt.title(\"F1-Score Distribution by Model Across Tickers\")\n",
    "plt.grid(axis='x', linestyle='--', alpha=0.5)\n",
    "plt.tight_layout()\n",
    "plt.savefig(\"f1_comparison.png\", dpi=300)  # Save as high-resolution PNG\n",
    "plt.show()"
   ]
  },
  {
   "cell_type": "markdown",
   "id": "1dc88794-ed02-4fe1-bf24-8e6215fb668f",
   "metadata": {},
   "source": [
    "### 1.2.3 MAPE (Mean Average Percentage Error)"
   ]
  },
  {
   "cell_type": "markdown",
   "id": "c647cdc3-b6e8-4964-a33b-39b35f12d84e",
   "metadata": {},
   "source": [
    "### LLM"
   ]
  },
  {
   "cell_type": "code",
   "execution_count": 418,
   "id": "62f21a8f-e37a-4416-b86b-3dfc2db36295",
   "metadata": {},
   "outputs": [
    {
     "data": {
      "text/html": [
       "<div>\n",
       "<style scoped>\n",
       "    .dataframe tbody tr th:only-of-type {\n",
       "        vertical-align: middle;\n",
       "    }\n",
       "\n",
       "    .dataframe tbody tr th {\n",
       "        vertical-align: top;\n",
       "    }\n",
       "\n",
       "    .dataframe thead th {\n",
       "        text-align: right;\n",
       "    }\n",
       "</style>\n",
       "<table border=\"1\" class=\"dataframe\">\n",
       "  <thead>\n",
       "    <tr style=\"text-align: right;\">\n",
       "      <th></th>\n",
       "      <th>ticker</th>\n",
       "      <th>MAPE</th>\n",
       "      <th>model</th>\n",
       "    </tr>\n",
       "  </thead>\n",
       "  <tbody>\n",
       "    <tr>\n",
       "      <th>0</th>\n",
       "      <td>AAPL</td>\n",
       "      <td>0.012707</td>\n",
       "      <td>LLM</td>\n",
       "    </tr>\n",
       "    <tr>\n",
       "      <th>1</th>\n",
       "      <td>ABBV</td>\n",
       "      <td>0.012412</td>\n",
       "      <td>LLM</td>\n",
       "    </tr>\n",
       "    <tr>\n",
       "      <th>2</th>\n",
       "      <td>ABNB</td>\n",
       "      <td>0.017208</td>\n",
       "      <td>LLM</td>\n",
       "    </tr>\n",
       "    <tr>\n",
       "      <th>3</th>\n",
       "      <td>ABT</td>\n",
       "      <td>0.009922</td>\n",
       "      <td>LLM</td>\n",
       "    </tr>\n",
       "    <tr>\n",
       "      <th>4</th>\n",
       "      <td>ACN</td>\n",
       "      <td>0.011538</td>\n",
       "      <td>LLM</td>\n",
       "    </tr>\n",
       "    <tr>\n",
       "      <th>...</th>\n",
       "      <td>...</td>\n",
       "      <td>...</td>\n",
       "      <td>...</td>\n",
       "    </tr>\n",
       "    <tr>\n",
       "      <th>99</th>\n",
       "      <td>PYPL</td>\n",
       "      <td>0.017851</td>\n",
       "      <td>LLM</td>\n",
       "    </tr>\n",
       "    <tr>\n",
       "      <th>100</th>\n",
       "      <td>SCHW</td>\n",
       "      <td>0.012602</td>\n",
       "      <td>LLM</td>\n",
       "    </tr>\n",
       "    <tr>\n",
       "      <th>101</th>\n",
       "      <td>SOFI</td>\n",
       "      <td>0.028747</td>\n",
       "      <td>LLM</td>\n",
       "    </tr>\n",
       "    <tr>\n",
       "      <th>102</th>\n",
       "      <td>T</td>\n",
       "      <td>0.010089</td>\n",
       "      <td>LLM</td>\n",
       "    </tr>\n",
       "    <tr>\n",
       "      <th>103</th>\n",
       "      <td>XOM</td>\n",
       "      <td>0.010959</td>\n",
       "      <td>LLM</td>\n",
       "    </tr>\n",
       "  </tbody>\n",
       "</table>\n",
       "<p>104 rows × 3 columns</p>\n",
       "</div>"
      ],
      "text/plain": [
       "    ticker      MAPE model\n",
       "0     AAPL  0.012707   LLM\n",
       "1     ABBV  0.012412   LLM\n",
       "2     ABNB  0.017208   LLM\n",
       "3      ABT  0.009922   LLM\n",
       "4      ACN  0.011538   LLM\n",
       "..     ...       ...   ...\n",
       "99    PYPL  0.017851   LLM\n",
       "100   SCHW  0.012602   LLM\n",
       "101   SOFI  0.028747   LLM\n",
       "102      T  0.010089   LLM\n",
       "103    XOM  0.010959   LLM\n",
       "\n",
       "[104 rows x 3 columns]"
      ]
     },
     "execution_count": 418,
     "metadata": {},
     "output_type": "execute_result"
    }
   ],
   "source": [
    "mape_by_ticker_llm = (\n",
    "    df.groupby(\"ticker\")[[\"actual_close\", \"estimated_price\"]]\n",
    "      .apply(lambda g: mean_absolute_percentage_error(\n",
    "                         g[\"actual_close\"], g[\"estimated_price\"]),\n",
    "             include_groups=False)\n",
    "      .rename(\"MAPE\")                  # fraction (e.g. 0.045 → 4.5 %)\n",
    "      .reset_index()\n",
    ")\n",
    "mape_by_ticker_llm['model'] = 'LLM'\n",
    "mape_by_ticker_llm"
   ]
  },
  {
   "cell_type": "code",
   "execution_count": 425,
   "id": "13efeb1b-fea3-42c0-a21e-7c53a2921ab5",
   "metadata": {},
   "outputs": [
    {
     "name": "stdout",
     "output_type": "stream",
     "text": [
      "Overall MAPE (LLM): 1.470%\n"
     ]
    }
   ],
   "source": [
    "overall_mape_llm= mean_absolute_percentage_error(\n",
    "                         df[\"actual_close\"],\n",
    "                         df[\"estimated_price\"])\n",
    "print(f\"Overall MAPE (LLM): {overall_mape_llm*100:.3f}%\")"
   ]
  },
  {
   "cell_type": "markdown",
   "id": "deb650f1-618f-49dd-9510-a07f1780ce7a",
   "metadata": {},
   "source": [
    "### ARIMA"
   ]
  },
  {
   "cell_type": "code",
   "execution_count": 430,
   "id": "72868b11-0b59-47d9-a55a-0b0e8866e782",
   "metadata": {},
   "outputs": [
    {
     "data": {
      "text/plain": [
       "0.005954522081667405"
      ]
     },
     "execution_count": 430,
     "metadata": {},
     "output_type": "execute_result"
    }
   ],
   "source": [
    "mape_by_ticker_arima = (\n",
    "    df.groupby(\"ticker\")[[\"actual_close\", \"estimated_price\"]]\n",
    "      .apply(lambda g: mean_absolute_percentage_error(\n",
    "                         g[\"actual_close\"], g[\"estimated_price\"]),\n",
    "             include_groups=False)\n",
    "      .rename(\"MAPE\")                  # fraction (e.g. 0.045 → 4.5 %)\n",
    "      .reset_index()\n",
    ")\n",
    "mape_by_ticker_arima['model'] = 'ARIMA'\n",
    "mape_by_ticker_arima['MAPE'].std()"
   ]
  },
  {
   "cell_type": "code",
   "execution_count": 424,
   "id": "02fc7009-23bf-46e5-ad28-d3513a1f448f",
   "metadata": {},
   "outputs": [
    {
     "name": "stdout",
     "output_type": "stream",
     "text": [
      "Overall MAPE (ARIMA): 1.402%\n"
     ]
    }
   ],
   "source": [
    "overall_mape_arima= mean_absolute_percentage_error(\n",
    "                         arima_df[\"actual_close\"],\n",
    "                         arima_df[\"estimated_price\"])\n",
    "print(f\"Overall MAPE (ARIMA): {overall_mape_arima*100:.3f}%\")"
   ]
  },
  {
   "cell_type": "markdown",
   "id": "f7906071-9103-47c0-be37-565242776025",
   "metadata": {},
   "source": [
    "### Exponential Smoothing"
   ]
  },
  {
   "cell_type": "code",
   "execution_count": 427,
   "id": "cc86e1fe-1659-414a-9920-5737bcf3dfcd",
   "metadata": {},
   "outputs": [
    {
     "data": {
      "text/html": [
       "<div>\n",
       "<style scoped>\n",
       "    .dataframe tbody tr th:only-of-type {\n",
       "        vertical-align: middle;\n",
       "    }\n",
       "\n",
       "    .dataframe tbody tr th {\n",
       "        vertical-align: top;\n",
       "    }\n",
       "\n",
       "    .dataframe thead th {\n",
       "        text-align: right;\n",
       "    }\n",
       "</style>\n",
       "<table border=\"1\" class=\"dataframe\">\n",
       "  <thead>\n",
       "    <tr style=\"text-align: right;\">\n",
       "      <th></th>\n",
       "      <th>ticker</th>\n",
       "      <th>MAPE</th>\n",
       "      <th>model</th>\n",
       "    </tr>\n",
       "  </thead>\n",
       "  <tbody>\n",
       "    <tr>\n",
       "      <th>0</th>\n",
       "      <td>AAPL</td>\n",
       "      <td>0.016094</td>\n",
       "      <td>SES</td>\n",
       "    </tr>\n",
       "    <tr>\n",
       "      <th>1</th>\n",
       "      <td>ABBV</td>\n",
       "      <td>0.016335</td>\n",
       "      <td>SES</td>\n",
       "    </tr>\n",
       "    <tr>\n",
       "      <th>2</th>\n",
       "      <td>ABNB</td>\n",
       "      <td>0.019388</td>\n",
       "      <td>SES</td>\n",
       "    </tr>\n",
       "    <tr>\n",
       "      <th>3</th>\n",
       "      <td>ABT</td>\n",
       "      <td>0.013068</td>\n",
       "      <td>SES</td>\n",
       "    </tr>\n",
       "    <tr>\n",
       "      <th>4</th>\n",
       "      <td>ACN</td>\n",
       "      <td>0.015602</td>\n",
       "      <td>SES</td>\n",
       "    </tr>\n",
       "    <tr>\n",
       "      <th>...</th>\n",
       "      <td>...</td>\n",
       "      <td>...</td>\n",
       "      <td>...</td>\n",
       "    </tr>\n",
       "    <tr>\n",
       "      <th>99</th>\n",
       "      <td>PYPL</td>\n",
       "      <td>0.023004</td>\n",
       "      <td>SES</td>\n",
       "    </tr>\n",
       "    <tr>\n",
       "      <th>100</th>\n",
       "      <td>SCHW</td>\n",
       "      <td>0.019279</td>\n",
       "      <td>SES</td>\n",
       "    </tr>\n",
       "    <tr>\n",
       "      <th>101</th>\n",
       "      <td>SOFI</td>\n",
       "      <td>0.037948</td>\n",
       "      <td>SES</td>\n",
       "    </tr>\n",
       "    <tr>\n",
       "      <th>102</th>\n",
       "      <td>T</td>\n",
       "      <td>0.013912</td>\n",
       "      <td>SES</td>\n",
       "    </tr>\n",
       "    <tr>\n",
       "      <th>103</th>\n",
       "      <td>XOM</td>\n",
       "      <td>0.014897</td>\n",
       "      <td>SES</td>\n",
       "    </tr>\n",
       "  </tbody>\n",
       "</table>\n",
       "<p>104 rows × 3 columns</p>\n",
       "</div>"
      ],
      "text/plain": [
       "    ticker      MAPE model\n",
       "0     AAPL  0.016094   SES\n",
       "1     ABBV  0.016335   SES\n",
       "2     ABNB  0.019388   SES\n",
       "3      ABT  0.013068   SES\n",
       "4      ACN  0.015602   SES\n",
       "..     ...       ...   ...\n",
       "99    PYPL  0.023004   SES\n",
       "100   SCHW  0.019279   SES\n",
       "101   SOFI  0.037948   SES\n",
       "102      T  0.013912   SES\n",
       "103    XOM  0.014897   SES\n",
       "\n",
       "[104 rows x 3 columns]"
      ]
     },
     "execution_count": 427,
     "metadata": {},
     "output_type": "execute_result"
    }
   ],
   "source": [
    "mape_by_ticker_ses = (\n",
    "    ses_df.groupby(\"ticker\")[[\"actual_close\", \"estimated_price\"]]\n",
    "      .apply(lambda g: mean_absolute_percentage_error(\n",
    "                         g[\"actual_close\"], g[\"estimated_price\"]),\n",
    "             include_groups=False)\n",
    "      .rename(\"MAPE\")                  # fraction (e.g. 0.045 → 4.5 %)\n",
    "      .reset_index()\n",
    ")\n",
    "mape_by_ticker_ses['model'] = 'SES'\n",
    "mape_by_ticker_ses"
   ]
  },
  {
   "cell_type": "code",
   "execution_count": 423,
   "id": "e8263614-a3e7-4670-a46f-5ec57c381d0d",
   "metadata": {},
   "outputs": [
    {
     "name": "stdout",
     "output_type": "stream",
     "text": [
      "Overall MAPE (Exponential Smoothing): 1.918%\n"
     ]
    }
   ],
   "source": [
    "overall_mape_ses = mean_absolute_percentage_error(\n",
    "                         ses_df[\"actual_close\"],\n",
    "                         ses_df[\"estimated_price\"])\n",
    "print(f\"Overall MAPE (Exponential Smoothing): {overall_mape_ses*100:.3f}%\")"
   ]
  },
  {
   "cell_type": "code",
   "execution_count": 422,
   "id": "bb74935e-1be0-4deb-b104-1c838e3cdb04",
   "metadata": {},
   "outputs": [
    {
     "data": {
      "image/png": "[encoded data removed]",
      "text/plain": [
       "<Figure size 1000x400 with 1 Axes>"
      ]
     },
     "metadata": {},
     "output_type": "display_data"
    }
   ],
   "source": [
    "df_all = pd.concat([mape_by_ticker_llm, mape_by_ticker_arima, mape_by_ticker_ses], ignore_index=True)\n",
    "\n",
    "model_order = ['SES', 'ARIMA', 'LLM']\n",
    "model_to_y = {model: i for i, model in enumerate(model_order)}\n",
    "\n",
    "plt.figure(figsize=(10, 4))\n",
    "for model in model_order:\n",
    "    model_data = df_all[df_all[\"model\"] == model]\n",
    "    y = [model_to_y[model]] * len(model_data)\n",
    "    plt.plot(model_data[\"MAPE\"], y, 'o', label=model, alpha=0.7)\n",
    "\n",
    "plt.yticks(range(len(model_order)), model_order)\n",
    "plt.xlabel(\"Mean Absolute Percentage Error\")\n",
    "plt.title(\"MAPE Distribution by Model Across Tickers\")\n",
    "plt.grid(axis='x', linestyle='--', alpha=0.5)\n",
    "plt.tight_layout()\n",
    "plt.savefig(\"mape_comparison.png\", dpi=300)  # Save as high-resolution PNG\n",
    "plt.show()"
   ]
  },
  {
   "cell_type": "markdown",
   "id": "5eb357ea-87bd-4ca0-bd90-476449c37074",
   "metadata": {},
   "source": [
    "### 1.2.3.1 MAPE for TP"
   ]
  },
  {
   "cell_type": "code",
   "execution_count": 270,
   "id": "74a4b521-e848-4816-ad2e-f048307d2e0d",
   "metadata": {},
   "outputs": [],
   "source": [
    "tp_llm_df = df[df['actual_up'] == df['pred_up']]\n",
    "tp_arima_df = arima_df[arima_df['actual_up'] == arima_df['pred_up']]\n",
    "tp_ses_df = ses_df[ses_df['actual_up'] == ses_df[\"pred_up\"]]"
   ]
  },
  {
   "cell_type": "code",
   "execution_count": 431,
   "id": "f730d1ce-7913-4e80-a635-35d611534a58",
   "metadata": {},
   "outputs": [
    {
     "data": {
      "text/html": [
       "<div>\n",
       "<style scoped>\n",
       "    .dataframe tbody tr th:only-of-type {\n",
       "        vertical-align: middle;\n",
       "    }\n",
       "\n",
       "    .dataframe tbody tr th {\n",
       "        vertical-align: top;\n",
       "    }\n",
       "\n",
       "    .dataframe thead th {\n",
       "        text-align: right;\n",
       "    }\n",
       "</style>\n",
       "<table border=\"1\" class=\"dataframe\">\n",
       "  <thead>\n",
       "    <tr style=\"text-align: right;\">\n",
       "      <th></th>\n",
       "      <th>ticker</th>\n",
       "      <th>last_date</th>\n",
       "      <th>last_close</th>\n",
       "      <th>estimated_date</th>\n",
       "      <th>estimated_price</th>\n",
       "      <th>model</th>\n",
       "      <th>actual_close</th>\n",
       "      <th>actual_up</th>\n",
       "      <th>pred_up</th>\n",
       "    </tr>\n",
       "  </thead>\n",
       "  <tbody>\n",
       "    <tr>\n",
       "      <th>5</th>\n",
       "      <td>AAPL</td>\n",
       "      <td>2024-05-21</td>\n",
       "      <td>191.916473</td>\n",
       "      <td>2024-05-22</td>\n",
       "      <td>190.609421</td>\n",
       "      <td>SES</td>\n",
       "      <td>190.469742</td>\n",
       "      <td>0</td>\n",
       "      <td>0</td>\n",
       "    </tr>\n",
       "    <tr>\n",
       "      <th>7</th>\n",
       "      <td>AAPL</td>\n",
       "      <td>2024-05-23</td>\n",
       "      <td>186.458801</td>\n",
       "      <td>2024-05-24</td>\n",
       "      <td>190.469742</td>\n",
       "      <td>SES</td>\n",
       "      <td>189.551804</td>\n",
       "      <td>1</td>\n",
       "      <td>1</td>\n",
       "    </tr>\n",
       "    <tr>\n",
       "      <th>15</th>\n",
       "      <td>AAPL</td>\n",
       "      <td>2024-06-05</td>\n",
       "      <td>195.428528</td>\n",
       "      <td>2024-06-06</td>\n",
       "      <td>193.911957</td>\n",
       "      <td>SES</td>\n",
       "      <td>194.041656</td>\n",
       "      <td>0</td>\n",
       "      <td>0</td>\n",
       "    </tr>\n",
       "    <tr>\n",
       "      <th>16</th>\n",
       "      <td>AAPL</td>\n",
       "      <td>2024-06-06</td>\n",
       "      <td>194.041656</td>\n",
       "      <td>2024-06-07</td>\n",
       "      <td>195.428528</td>\n",
       "      <td>SES</td>\n",
       "      <td>196.446243</td>\n",
       "      <td>1</td>\n",
       "      <td>1</td>\n",
       "    </tr>\n",
       "    <tr>\n",
       "      <th>17</th>\n",
       "      <td>AAPL</td>\n",
       "      <td>2024-06-07</td>\n",
       "      <td>196.446243</td>\n",
       "      <td>2024-06-10</td>\n",
       "      <td>194.042996</td>\n",
       "      <td>SES</td>\n",
       "      <td>192.684723</td>\n",
       "      <td>0</td>\n",
       "      <td>0</td>\n",
       "    </tr>\n",
       "    <tr>\n",
       "      <th>...</th>\n",
       "      <td>...</td>\n",
       "      <td>...</td>\n",
       "      <td>...</td>\n",
       "      <td>...</td>\n",
       "      <td>...</td>\n",
       "      <td>...</td>\n",
       "      <td>...</td>\n",
       "      <td>...</td>\n",
       "      <td>...</td>\n",
       "    </tr>\n",
       "    <tr>\n",
       "      <th>19162</th>\n",
       "      <td>XOM</td>\n",
       "      <td>2025-01-31</td>\n",
       "      <td>106.830002</td>\n",
       "      <td>2025-02-03</td>\n",
       "      <td>109.396563</td>\n",
       "      <td>SES</td>\n",
       "      <td>107.089996</td>\n",
       "      <td>1</td>\n",
       "      <td>1</td>\n",
       "    </tr>\n",
       "    <tr>\n",
       "      <th>19163</th>\n",
       "      <td>XOM</td>\n",
       "      <td>2025-02-03</td>\n",
       "      <td>107.089996</td>\n",
       "      <td>2025-02-04</td>\n",
       "      <td>107.509921</td>\n",
       "      <td>SES</td>\n",
       "      <td>109.959999</td>\n",
       "      <td>1</td>\n",
       "      <td>1</td>\n",
       "    </tr>\n",
       "    <tr>\n",
       "      <th>19164</th>\n",
       "      <td>XOM</td>\n",
       "      <td>2025-02-04</td>\n",
       "      <td>109.959999</td>\n",
       "      <td>2025-02-05</td>\n",
       "      <td>107.207955</td>\n",
       "      <td>SES</td>\n",
       "      <td>109.879997</td>\n",
       "      <td>0</td>\n",
       "      <td>0</td>\n",
       "    </tr>\n",
       "    <tr>\n",
       "      <th>19165</th>\n",
       "      <td>XOM</td>\n",
       "      <td>2025-02-05</td>\n",
       "      <td>109.879997</td>\n",
       "      <td>2025-02-06</td>\n",
       "      <td>109.068492</td>\n",
       "      <td>SES</td>\n",
       "      <td>108.430000</td>\n",
       "      <td>0</td>\n",
       "      <td>0</td>\n",
       "    </tr>\n",
       "    <tr>\n",
       "      <th>19166</th>\n",
       "      <td>XOM</td>\n",
       "      <td>2025-02-06</td>\n",
       "      <td>108.430000</td>\n",
       "      <td>2025-02-07</td>\n",
       "      <td>109.661521</td>\n",
       "      <td>SES</td>\n",
       "      <td>108.889999</td>\n",
       "      <td>1</td>\n",
       "      <td>1</td>\n",
       "    </tr>\n",
       "  </tbody>\n",
       "</table>\n",
       "<p>9512 rows × 9 columns</p>\n",
       "</div>"
      ],
      "text/plain": [
       "      ticker   last_date  last_close estimated_date  estimated_price model  \\\n",
       "5       AAPL  2024-05-21  191.916473     2024-05-22       190.609421   SES   \n",
       "7       AAPL  2024-05-23  186.458801     2024-05-24       190.469742   SES   \n",
       "15      AAPL  2024-06-05  195.428528     2024-06-06       193.911957   SES   \n",
       "16      AAPL  2024-06-06  194.041656     2024-06-07       195.428528   SES   \n",
       "17      AAPL  2024-06-07  196.446243     2024-06-10       194.042996   SES   \n",
       "...      ...         ...         ...            ...              ...   ...   \n",
       "19162    XOM  2025-01-31  106.830002     2025-02-03       109.396563   SES   \n",
       "19163    XOM  2025-02-03  107.089996     2025-02-04       107.509921   SES   \n",
       "19164    XOM  2025-02-04  109.959999     2025-02-05       107.207955   SES   \n",
       "19165    XOM  2025-02-05  109.879997     2025-02-06       109.068492   SES   \n",
       "19166    XOM  2025-02-06  108.430000     2025-02-07       109.661521   SES   \n",
       "\n",
       "       actual_close  actual_up  pred_up  \n",
       "5        190.469742          0        0  \n",
       "7        189.551804          1        1  \n",
       "15       194.041656          0        0  \n",
       "16       196.446243          1        1  \n",
       "17       192.684723          0        0  \n",
       "...             ...        ...      ...  \n",
       "19162    107.089996          1        1  \n",
       "19163    109.959999          1        1  \n",
       "19164    109.879997          0        0  \n",
       "19165    108.430000          0        0  \n",
       "19166    108.889999          1        1  \n",
       "\n",
       "[9512 rows x 9 columns]"
      ]
     },
     "execution_count": 431,
     "metadata": {},
     "output_type": "execute_result"
    }
   ],
   "source": [
    "tp_ses_df"
   ]
  },
  {
   "cell_type": "markdown",
   "id": "8ac869c5-fc72-410f-97c2-e8aef7b5936e",
   "metadata": {},
   "source": [
    "### LLM"
   ]
  },
  {
   "cell_type": "code",
   "execution_count": 272,
   "id": "f38fb32f-bb58-4135-a999-ad31ba8d9be4",
   "metadata": {},
   "outputs": [
    {
     "name": "stdout",
     "output_type": "stream",
     "text": [
      "Overall MAPE for TP (LLM): 0.9021395268%\n"
     ]
    }
   ],
   "source": [
    "overall_mape_llm_tp = mean_absolute_percentage_error(\n",
    "                         tp_llm_df[\"actual_close\"],\n",
    "                         tp_llm_df[\"estimated_price\"])\n",
    "print(f\"Overall MAPE for TP (LLM): {overall_mape_llm_tp*100:.10f}%\")"
   ]
  },
  {
   "cell_type": "markdown",
   "id": "f94a6aa5-8263-4e38-8e12-820de0c62785",
   "metadata": {},
   "source": [
    "### ARIMA"
   ]
  },
  {
   "cell_type": "code",
   "execution_count": 274,
   "id": "0fc54249-cb20-4d58-862e-2129e78c2ab3",
   "metadata": {},
   "outputs": [
    {
     "name": "stdout",
     "output_type": "stream",
     "text": [
      "Overall MAPE (ARIMA): 1.0369925516%\n"
     ]
    }
   ],
   "source": [
    "overall_mape_arima_tp = mean_absolute_percentage_error(\n",
    "                         tp_arima_df[\"actual_close\"],\n",
    "                         tp_arima_df[\"estimated_price\"])\n",
    "print(f\"Overall MAPE (ARIMA): {overall_mape_arima_tp*100:.10f}%\")"
   ]
  },
  {
   "cell_type": "markdown",
   "id": "d2cc3030-95f3-45da-836a-49c741c0b200",
   "metadata": {},
   "source": [
    "### Exponential Smoothing"
   ]
  },
  {
   "cell_type": "code",
   "execution_count": 275,
   "id": "dd22bb22-23f0-4756-a216-53dbda5a0c46",
   "metadata": {},
   "outputs": [
    {
     "name": "stdout",
     "output_type": "stream",
     "text": [
      "Overall MAPE (ARIMA): 1.2038351323%\n"
     ]
    }
   ],
   "source": [
    "overall_mape_ses_tp = mean_absolute_percentage_error(\n",
    "                         tp_ses_df[\"actual_close\"],\n",
    "                         tp_ses_df[\"estimated_price\"])\n",
    "print(f\"Overall MAPE (ARIMA): {overall_mape_ses_tp*100:.10f}%\")"
   ]
  },
  {
   "cell_type": "markdown",
   "id": "60eba089-1093-454b-beb0-fb3d7da580d7",
   "metadata": {},
   "source": [
    "### 1.2.4 Evaluation Based on Price Volatility"
   ]
  },
  {
   "cell_type": "markdown",
   "id": "cdff28b8-f408-4b9c-9578-6ee2e80e5686",
   "metadata": {},
   "source": [
    "$$\n",
    "\\sigma_{\\text{vol}}(k)\n",
    "\\;=\\;\n",
    "\\sqrt{\n",
    "  \\dfrac{1}{T-1}\\,\n",
    "  \\sum_{t=2}^{T}\n",
    "    \\bigl(\\ln P_{k,t}-\\ln P_{k,t-1}\\bigr)^2\n",
    "}\n",
    "$$"
   ]
  },
  {
   "cell_type": "code",
   "execution_count": 438,
   "id": "b5274b6e-49df-4ced-af28-bbf6a5b2fdc0",
   "metadata": {},
   "outputs": [],
   "source": [
    "dfff = df.copy()\n",
    "dfff['log_return'] = dfff.groupby('ticker')['last_close'].transform(lambda x: np.log(x) - np.log(x.shift(1)))\n",
    "\n",
    "vol_df = (\n",
    "    dfff.groupby('ticker')['log_return']\n",
    "    .std()\n",
    "    .reset_index()\n",
    "    .rename(columns={'log_return': 'price_volatility'})\n",
    ")\n",
    "\n",
    "vol_df = vol_df.sort_values(by='price_volatility', ascending=False)"
   ]
  },
  {
   "cell_type": "code",
   "execution_count": 441,
   "id": "fc2ee9e9-072f-41eb-b881-e187a171f7f2",
   "metadata": {},
   "outputs": [
    {
     "data": {
      "image/png": "[encoded data removed]",
      "text/plain": [
       "<Figure size 800x1200 with 1 Axes>"
      ]
     },
     "metadata": {},
     "output_type": "display_data"
    }
   ],
   "source": [
    "plt.figure(figsize=(8, 12))\n",
    "ax = plt.gca()\n",
    "\n",
    "# Horizontal bar chart\n",
    "ax.barh(vol_df['ticker'], vol_df['price_volatility'])\n",
    "\n",
    "# Make ticker labels smaller\n",
    "ax.tick_params(axis='y', labelsize=7)\n",
    "\n",
    "plt.xlabel(\"Price Volatility (σ)\")\n",
    "plt.ylabel(\"Ticker\")\n",
    "plt.title(\"Price Volatility by Ticker\")\n",
    "plt.tight_layout()\n",
    "plt.savefig(\"price_volatility.png\", dpi=300) \n",
    "plt.show()"
   ]
  },
  {
   "cell_type": "code",
   "execution_count": 209,
   "id": "768970cb-5d64-4898-9826-c9d7bcc4f68c",
   "metadata": {},
   "outputs": [],
   "source": [
    "def flag_volatility(df, cutoff):\n",
    "    \"\"\"\n",
    "    Compute σ(log-returns) per ticker and append a 'vol_bucket' column:\n",
    "        'HighVol'  if σ >= cutoff\n",
    "        'LowVol'   otherwise\n",
    "    cutoff can be 'median', a percentile (e.g. 0.75), or a numeric σ.\n",
    "    \"\"\"\n",
    "    df_sorted = df.sort_values([\"ticker\", \"last_date\"])\n",
    "    log_ret   = np.log(df_sorted.groupby(\"ticker\")[\"last_close\"].pct_change() + 1)\n",
    "\n",
    "    sigma_tbl = (\n",
    "        log_ret.groupby(df_sorted[\"ticker\"])\n",
    "               .std()                          # std of log-returns\n",
    "               .rename(\"sigma\")\n",
    "               .reset_index()\n",
    "    )\n",
    "\n",
    "    if cutoff == \"median\":\n",
    "        thr = sigma_tbl[\"sigma\"].median()\n",
    "    elif 0 < cutoff < 1:\n",
    "        thr = sigma_tbl[\"sigma\"].quantile(cutoff)\n",
    "    else:\n",
    "        thr = float(cutoff)\n",
    "\n",
    "    sigma_tbl[\"vol_bucket\"] = np.where(\n",
    "        sigma_tbl[\"sigma\"] >= thr, \"HighVol\", \"LowVol\"\n",
    "    )\n",
    "\n",
    "    return df.merge(sigma_tbl, on=\"ticker\", how=\"left\")"
   ]
  },
  {
   "cell_type": "code",
   "execution_count": 219,
   "id": "48a7cc13-31cc-4b61-8c89-b03cd77e21dc",
   "metadata": {},
   "outputs": [],
   "source": [
    "def bucket_scores(pred_df):\n",
    "    return (\n",
    "        pred_df.groupby(\"vol_bucket\")\n",
    "               .apply(lambda g: pd.Series({\n",
    "                   \"Accuracy\": accuracy_score(g[\"actual_up\"], g[\"pred_up\"]),\n",
    "                   \"F1\"      : f1_score     (g[\"actual_up\"], g[\"pred_up\"]),\n",
    "                   \"MAPE\"    : mean_absolute_percentage_error(\n",
    "                                   g[\"actual_close\"], g[\"estimated_price\"])\n",
    "               }), include_groups=False)\n",
    "               .reset_index()\n",
    "    )"
   ]
  },
  {
   "cell_type": "markdown",
   "id": "c2986acb-7de3-4071-8159-3c0ffa3116b5",
   "metadata": {},
   "source": [
    "### LLM"
   ]
  },
  {
   "cell_type": "code",
   "execution_count": 220,
   "id": "3b8ad78a-9c54-42eb-8e25-f3779983caff",
   "metadata": {},
   "outputs": [
    {
     "name": "stdout",
     "output_type": "stream",
     "text": [
      "  vol_bucket  Accuracy        F1      MAPE\n",
      "0    HighVol  0.492325  0.569921  0.023624\n",
      "1     LowVol  0.514386  0.593908  0.012460\n"
     ]
    }
   ],
   "source": [
    "llm_df_tagged = flag_volatility(df, 0.8)\n",
    "\n",
    "scores_by_bucket_llm = bucket_scores(llm_df_tagged)\n",
    "print(scores_by_bucket_llm)"
   ]
  },
  {
   "cell_type": "markdown",
   "id": "68d749bb-320d-41fb-88df-0cad586ed1e4",
   "metadata": {},
   "source": [
    "### ARIMA"
   ]
  },
  {
   "cell_type": "code",
   "execution_count": 221,
   "id": "da85b86f-0ac2-41a1-912f-9f8739dc1e0c",
   "metadata": {},
   "outputs": [
    {
     "name": "stdout",
     "output_type": "stream",
     "text": [
      "  vol_bucket  Accuracy        F1      MAPE\n",
      "0    HighVol  0.493677  0.518409  0.022943\n",
      "1     LowVol  0.498279  0.520363  0.011770\n"
     ]
    }
   ],
   "source": [
    "arima_df_tagged = flag_volatility(arima_df, 0.8)\n",
    "\n",
    "scores_by_bucket_arima = bucket_scores(arima_df_tagged)\n",
    "print(scores_by_bucket_arima)"
   ]
  },
  {
   "cell_type": "markdown",
   "id": "850d89d1-b484-4098-826f-e9a52f14fc86",
   "metadata": {},
   "source": [
    "### Exponential Smoothing"
   ]
  },
  {
   "cell_type": "code",
   "execution_count": 222,
   "id": "65f6ed3c-a22c-41cb-9dc6-487a6a7f05cd",
   "metadata": {},
   "outputs": [
    {
     "name": "stdout",
     "output_type": "stream",
     "text": [
      "  vol_bucket  Accuracy        F1      MAPE\n",
      "0    HighVol  0.499348  0.496722  0.031602\n",
      "1     LowVol  0.498786  0.496272  0.016056\n"
     ]
    }
   ],
   "source": [
    "ses_df_tagged = flag_volatility(ses_df, 0.8)\n",
    "\n",
    "scores_by_bucket_ses = bucket_scores(ses_df_tagged)\n",
    "print(scores_by_bucket_ses)"
   ]
  },
  {
   "cell_type": "markdown",
   "id": "b6163a04-399c-472c-b0bc-7c5b63be9b3c",
   "metadata": {},
   "source": [
    "## 2. News Sentiment Analysis "
   ]
  },
  {
   "cell_type": "markdown",
   "id": "3724f180-b4fa-4f76-b5e1-8e3265cb6258",
   "metadata": {},
   "source": [
    "### 2.1 Sentiment Scoring - Analyzing Price Movements"
   ]
  },
  {
   "cell_type": "markdown",
   "id": "e8f2ea6f-be65-4350-b9c7-ac7e950ba9c6",
   "metadata": {},
   "source": [
    "Let's observe the data we retrieved using an LLM."
   ]
  },
  {
   "cell_type": "code",
   "execution_count": 295,
   "id": "8018d5fa-bfc5-4158-a2d1-ebfa189d9951",
   "metadata": {},
   "outputs": [],
   "source": [
    "sentiment_df = pd.read_csv('SENTIMENT_SCORING.csv')"
   ]
  },
  {
   "cell_type": "code",
   "execution_count": 298,
   "id": "8be7191a-1336-4b48-807f-35e5ba5cb507",
   "metadata": {},
   "outputs": [
    {
     "data": {
      "text/html": [
       "<div>\n",
       "<style scoped>\n",
       "    .dataframe tbody tr th:only-of-type {\n",
       "        vertical-align: middle;\n",
       "    }\n",
       "\n",
       "    .dataframe tbody tr th {\n",
       "        vertical-align: top;\n",
       "    }\n",
       "\n",
       "    .dataframe thead th {\n",
       "        text-align: right;\n",
       "    }\n",
       "</style>\n",
       "<table border=\"1\" class=\"dataframe\">\n",
       "  <thead>\n",
       "    <tr style=\"text-align: right;\">\n",
       "      <th></th>\n",
       "      <th>score</th>\n",
       "      <th>confidence</th>\n",
       "      <th>reason</th>\n",
       "      <th>ticker</th>\n",
       "      <th>headline</th>\n",
       "      <th>summary</th>\n",
       "      <th>date</th>\n",
       "    </tr>\n",
       "  </thead>\n",
       "  <tbody>\n",
       "    <tr>\n",
       "      <th>0</th>\n",
       "      <td>5</td>\n",
       "      <td>Low</td>\n",
       "      <td>irrelevant headline and summary for AAPL</td>\n",
       "      <td>AAPL</td>\n",
       "      <td>TSLA Stock Analysis: Is Tesla’s Astronomical V...</td>\n",
       "      <td>Looking for stock market analysis and research...</td>\n",
       "      <td>2024-02-20</td>\n",
       "    </tr>\n",
       "    <tr>\n",
       "      <th>1</th>\n",
       "      <td>5</td>\n",
       "      <td>Low</td>\n",
       "      <td>irrelevant summary, no meaningful content</td>\n",
       "      <td>AAPL</td>\n",
       "      <td>Apple said to change audio leadership: report</td>\n",
       "      <td>Looking for stock market analysis and research...</td>\n",
       "      <td>2024-02-20</td>\n",
       "    </tr>\n",
       "    <tr>\n",
       "      <th>2</th>\n",
       "      <td>5</td>\n",
       "      <td>Low</td>\n",
       "      <td>\"single source, neutral tone, unclear relevanc...</td>\n",
       "      <td>AAPL</td>\n",
       "      <td>ETO: Maintaining Rating, But This Global CEF I...</td>\n",
       "      <td>ETO appears to be fully covering its distribut...</td>\n",
       "      <td>2024-02-20</td>\n",
       "    </tr>\n",
       "    <tr>\n",
       "      <th>3</th>\n",
       "      <td>6</td>\n",
       "      <td>Medium</td>\n",
       "      <td>single source, speculative product news with m...</td>\n",
       "      <td>AAPL</td>\n",
       "      <td>Apple's Foldable iPhone To Launch In 2026, Eig...</td>\n",
       "      <td>Looking for stock market analysis and research...</td>\n",
       "      <td>2024-02-20</td>\n",
       "    </tr>\n",
       "    <tr>\n",
       "      <th>4</th>\n",
       "      <td>5</td>\n",
       "      <td>Low</td>\n",
       "      <td>irrelevant summary, no meaningful content abou...</td>\n",
       "      <td>AAPL</td>\n",
       "      <td>Vision Pro $199 Travel Case Has The Internet D...</td>\n",
       "      <td>Looking for stock market analysis and research...</td>\n",
       "      <td>2024-02-20</td>\n",
       "    </tr>\n",
       "  </tbody>\n",
       "</table>\n",
       "</div>"
      ],
      "text/plain": [
       "   score confidence                                             reason ticker  \\\n",
       "0      5        Low           irrelevant headline and summary for AAPL   AAPL   \n",
       "1      5        Low          irrelevant summary, no meaningful content   AAPL   \n",
       "2      5        Low  \"single source, neutral tone, unclear relevanc...   AAPL   \n",
       "3      6     Medium  single source, speculative product news with m...   AAPL   \n",
       "4      5        Low  irrelevant summary, no meaningful content abou...   AAPL   \n",
       "\n",
       "                                            headline  \\\n",
       "0  TSLA Stock Analysis: Is Tesla’s Astronomical V...   \n",
       "1      Apple said to change audio leadership: report   \n",
       "2  ETO: Maintaining Rating, But This Global CEF I...   \n",
       "3  Apple's Foldable iPhone To Launch In 2026, Eig...   \n",
       "4  Vision Pro $199 Travel Case Has The Internet D...   \n",
       "\n",
       "                                             summary        date  \n",
       "0  Looking for stock market analysis and research...  2024-02-20  \n",
       "1  Looking for stock market analysis and research...  2024-02-20  \n",
       "2  ETO appears to be fully covering its distribut...  2024-02-20  \n",
       "3  Looking for stock market analysis and research...  2024-02-20  \n",
       "4  Looking for stock market analysis and research...  2024-02-20  "
      ]
     },
     "execution_count": 298,
     "metadata": {},
     "output_type": "execute_result"
    }
   ],
   "source": [
    "sentiment_df.head()"
   ]
  },
  {
   "cell_type": "code",
   "execution_count": 452,
   "id": "99aa40fe-5ff2-49b0-90a8-3ce240fa787f",
   "metadata": {},
   "outputs": [
    {
     "data": {
      "image/png": "[encoded data removed]",
      "text/plain": [
       "<Figure size 1000x600 with 1 Axes>"
      ]
     },
     "metadata": {},
     "output_type": "display_data"
    }
   ],
   "source": [
    "\n",
    "score_counts = sentiment_df[sentiment_df['confidence'] != 'Low'].groupby(['ticker', 'score']).size().unstack(fill_value=0)\n",
    "\n",
    "score_counts.plot(kind='bar', figsize=(10, 6))\n",
    "\n",
    "plt.title('Sentiment Score Distribution per Ticker')\n",
    "plt.xlabel('Ticker')\n",
    "plt.ylabel('Count')\n",
    "plt.legend(title='Sentiment Score', bbox_to_anchor=(1.05, 1), loc='upper left')\n",
    "plt.tight_layout()\n",
    "plt.savefig('sentiment_score_distribution.png', dpi=300)\n",
    "plt.show()"
   ]
  },
  {
   "cell_type": "code",
   "execution_count": 451,
   "id": "f505404f-b575-451a-8db6-6ac3d794f467",
   "metadata": {},
   "outputs": [
    {
     "data": {
      "image/png": "[encoded data removed]",
      "text/plain": [
       "<Figure size 800x500 with 1 Axes>"
      ]
     },
     "metadata": {},
     "output_type": "display_data"
    }
   ],
   "source": [
    "score_counts = sentiment_df['confidence'].value_counts().sort_index()\n",
    "plt.figure(figsize=(8, 5))\n",
    "score_counts.plot(kind='bar')\n",
    "\n",
    "plt.title('Overall Confidence Distribution')\n",
    "plt.xlabel('Confidence')\n",
    "plt.ylabel('Count')\n",
    "plt.xticks(rotation=0)\n",
    "plt.tight_layout()\n",
    "plt.savefig('sentiment_confidence_distribution.png', dpi=300)\n",
    "plt.show()"
   ]
  },
  {
   "cell_type": "markdown",
   "id": "384e62ea-1045-44ef-9655-04777e1f95de",
   "metadata": {},
   "source": [
    "Let's see how much noise we have in the data. (i.e. Output where LLM has low confidence.)"
   ]
  },
  {
   "cell_type": "code",
   "execution_count": 337,
   "id": "60c0b0bf-a440-49fd-8d87-e8bf12c7c011",
   "metadata": {},
   "outputs": [
    {
     "name": "stdout",
     "output_type": "stream",
     "text": [
      "confidence   Low  Medium  High\n",
      "ticker                        \n",
      "AAPL        8530    5348    96\n",
      "HIMS         334     255    11\n",
      "HOOD         921     938    38\n",
      "NET          468     424    23\n",
      "NU           264     450    10\n",
      "PYPL        1077    1029    13\n",
      "SOFI         597     684    12\n",
      "TSLA        8026    5986    98\n"
     ]
    }
   ],
   "source": [
    "confidence_counts = (\n",
    "    pd.crosstab(                      \n",
    "        sentiment_df[\"ticker\"],\n",
    "        sentiment_df[\"confidence\"],\n",
    "        dropna=False,\n",
    "    )\n",
    "    .reindex(columns=[\"Low\", \"Medium\", \"High\"], fill_value=0)\n",
    "    .astype(int)\n",
    "    .sort_index()\n",
    ")\n",
    "\n",
    "print(confidence_counts)"
   ]
  },
  {
   "cell_type": "markdown",
   "id": "5f0ed185-6d37-4139-853b-788031cf2f39",
   "metadata": {},
   "source": [
    "For our analysis, we ignore sentiment score data with low conficence."
   ]
  },
  {
   "cell_type": "code",
   "execution_count": 338,
   "id": "7a7a9097-7089-420a-b397-2cf01e1bcf6e",
   "metadata": {},
   "outputs": [],
   "source": [
    "sentiment_df_confident = sentiment_df[sentiment_df['confidence'] != 'Low']"
   ]
  },
  {
   "cell_type": "code",
   "execution_count": 339,
   "id": "1aa1d046-d4b0-42b3-86fc-478a724758de",
   "metadata": {},
   "outputs": [],
   "source": [
    "price_data = pd.read_csv(\"./stock_price_history.csv\")        \n",
    "price_data['date'] = pd.to_datetime(price_data['date'], errors='coerce')\n",
    "price_data.sort_values('date', ascending=True, inplace=True)\n",
    "price_data.drop(columns=['uuid', 'open', 'high', 'low', 'stock_splits', 'dividends'], inplace=True)\n",
    "price_data['date'] = price_data['date'].dt.strftime(\"%Y-%m-%d\")"
   ]
  },
  {
   "cell_type": "markdown",
   "id": "e0301f69-bd38-441c-8c72-cc146f33f30d",
   "metadata": {},
   "source": [
    "We now want to see how sentiment score trend compares to the price changes"
   ]
  },
  {
   "cell_type": "code",
   "execution_count": 453,
   "id": "266f1e2b-460e-470a-bc25-9435685e5e6e",
   "metadata": {},
   "outputs": [
    {
     "data": {
      "image/png": "[encoded data removed]",
      "text/plain": [
       "<Figure size 1000x500 with 2 Axes>"
      ]
     },
     "metadata": {},
     "output_type": "display_data"
    }
   ],
   "source": [
    "ticker = \"PYPL\"\n",
    "WINDOW = 90\n",
    "\n",
    "sent = (sentiment_df_confident[sentiment_df_confident[\"ticker\"] == ticker]\n",
    "        .groupby(\"date\", as_index=False)[\"score\"]\n",
    "        .mean()\n",
    "        .rename(columns={\"date\": \"trade_date\"})\n",
    "       )\n",
    "\n",
    "px = (price_data[price_data[\"ticker\"] == ticker]\n",
    "      .rename(columns={\"date\": \"trade_date\",\n",
    "                       \"close\": \"close\"})\n",
    "      .sort_values(\"trade_date\")\n",
    "     )\n",
    "\n",
    "data = px.merge(sent, on=\"trade_date\", how=\"left\")\n",
    "\n",
    "data[\"score_smooth\"] = (\n",
    "    data[\"score\"]\n",
    "      .rolling(window=WINDOW, center=True, min_periods=1)\n",
    "      .mean()\n",
    ")\n",
    "\n",
    "data[\"trade_date\"] = pd.to_datetime(data[\"trade_date\"])\n",
    "\n",
    "# ---------------------------------------------------------------\n",
    "# plot\n",
    "# ---------------------------------------------------------------\n",
    "fig, ax1 = plt.subplots(figsize=(10, 5))\n",
    "\n",
    "ax1.plot(data[\"trade_date\"], data[\"close\"], label=\"Close price\")\n",
    "ax1.set_xlabel(\"Date\")\n",
    "ax1.set_ylabel(\"Price ($)\")\n",
    "ax1.set_title(f\"{ticker}: Price vs. 90 Days Smoothed Daily Sentiment\")\n",
    "\n",
    "ax2 = ax1.twinx()\n",
    "ax2.plot(data[\"trade_date\"], data[\"score_smooth\"],\n",
    "         linestyle=\"--\", linewidth=2,\n",
    "         label=\"Smoothed sentiment\", alpha=0.8)\n",
    "ax2.set_ylabel(\"Sentiment score\")\n",
    "\n",
    "ax1.xaxis.set_major_locator(mdates.MonthLocator())\n",
    "ax1.xaxis.set_major_formatter(mdates.DateFormatter('%Y-%m'))\n",
    "\n",
    "ax2.xaxis.set_major_locator(mdates.MonthLocator())\n",
    "ax2.xaxis.set_major_formatter(mdates.DateFormatter('%Y-%m'))\n",
    "\n",
    "fig.autofmt_xdate()\n",
    "plt.tight_layout()\n",
    "plt.savefig('pypl_sentiment_score.png', dpi=300)\n",
    "plt.show()"
   ]
  },
  {
   "cell_type": "markdown",
   "id": "754419a6-ac7b-4c9d-a024-60c4276c2188",
   "metadata": {},
   "source": [
    "# 3. Forecasting with Sentiment Data"
   ]
  },
  {
   "cell_type": "markdown",
   "id": "5699f109-afd0-4b50-814e-3b8809689511",
   "metadata": {},
   "source": [
    "## 3.1 Price Forecasting"
   ]
  },
  {
   "cell_type": "markdown",
   "id": "55ff119b-05e7-4711-a523-da44767c440b",
   "metadata": {},
   "source": [
    "From our previous Sentiment Analysis Evalution step, we have gathered data in such form\n",
    "```\n",
    "{\n",
    "    'score': \"SENTIMENT_SCORE\",\n",
    "    'confidence': \"High / Medium / Low\",\n",
    "    'date': \"YYYY-MM-DD format\",\n",
    "    ...\n",
    "}\n",
    "```"
   ]
  },
  {
   "cell_type": "markdown",
   "id": "fc74c5fb-661c-4033-b505-ceda94752c24",
   "metadata": {},
   "source": [
    "Using the same price data, and using the above output, we explore if adding sentiment score data would help with price forecasting."
   ]
  },
  {
   "cell_type": "code",
   "execution_count": 233,
   "id": "d107d579-2442-4448-affa-156dc6c7c6b1",
   "metadata": {},
   "outputs": [
    {
     "data": {
      "text/html": [
       "<div>\n",
       "<style scoped>\n",
       "    .dataframe tbody tr th:only-of-type {\n",
       "        vertical-align: middle;\n",
       "    }\n",
       "\n",
       "    .dataframe tbody tr th {\n",
       "        vertical-align: top;\n",
       "    }\n",
       "\n",
       "    .dataframe thead th {\n",
       "        text-align: right;\n",
       "    }\n",
       "</style>\n",
       "<table border=\"1\" class=\"dataframe\">\n",
       "  <thead>\n",
       "    <tr style=\"text-align: right;\">\n",
       "      <th></th>\n",
       "      <th>estimated_price</th>\n",
       "      <th>last_date</th>\n",
       "      <th>last_close</th>\n",
       "      <th>estimated_date</th>\n",
       "      <th>ticker</th>\n",
       "    </tr>\n",
       "  </thead>\n",
       "  <tbody>\n",
       "    <tr>\n",
       "      <th>0</th>\n",
       "      <td>7.15</td>\n",
       "      <td>2024-04-02</td>\n",
       "      <td>7.200000</td>\n",
       "      <td>2024-04-03</td>\n",
       "      <td>SOFI</td>\n",
       "    </tr>\n",
       "    <tr>\n",
       "      <th>1</th>\n",
       "      <td>7.45</td>\n",
       "      <td>2024-04-03</td>\n",
       "      <td>7.540000</td>\n",
       "      <td>2024-04-04</td>\n",
       "      <td>SOFI</td>\n",
       "    </tr>\n",
       "    <tr>\n",
       "      <th>2</th>\n",
       "      <td>7.25</td>\n",
       "      <td>2024-04-04</td>\n",
       "      <td>7.310000</td>\n",
       "      <td>2024-04-05</td>\n",
       "      <td>SOFI</td>\n",
       "    </tr>\n",
       "    <tr>\n",
       "      <th>3</th>\n",
       "      <td>7.35</td>\n",
       "      <td>2024-04-05</td>\n",
       "      <td>7.400000</td>\n",
       "      <td>2024-04-08</td>\n",
       "      <td>SOFI</td>\n",
       "    </tr>\n",
       "    <tr>\n",
       "      <th>4</th>\n",
       "      <td>7.85</td>\n",
       "      <td>2024-04-08</td>\n",
       "      <td>7.760000</td>\n",
       "      <td>2024-04-09</td>\n",
       "      <td>SOFI</td>\n",
       "    </tr>\n",
       "    <tr>\n",
       "      <th>...</th>\n",
       "      <td>...</td>\n",
       "      <td>...</td>\n",
       "      <td>...</td>\n",
       "      <td>...</td>\n",
       "      <td>...</td>\n",
       "    </tr>\n",
       "    <tr>\n",
       "      <th>1090</th>\n",
       "      <td>76.45</td>\n",
       "      <td>2025-02-07</td>\n",
       "      <td>77.309998</td>\n",
       "      <td>2025-02-10</td>\n",
       "      <td>PYPL</td>\n",
       "    </tr>\n",
       "    <tr>\n",
       "      <th>1091</th>\n",
       "      <td>78.50</td>\n",
       "      <td>2025-02-10</td>\n",
       "      <td>78.239998</td>\n",
       "      <td>2025-02-11</td>\n",
       "      <td>PYPL</td>\n",
       "    </tr>\n",
       "    <tr>\n",
       "      <th>1092</th>\n",
       "      <td>75.40</td>\n",
       "      <td>2025-02-11</td>\n",
       "      <td>76.209999</td>\n",
       "      <td>2025-02-12</td>\n",
       "      <td>PYPL</td>\n",
       "    </tr>\n",
       "    <tr>\n",
       "      <th>1093</th>\n",
       "      <td>75.46</td>\n",
       "      <td>2025-02-12</td>\n",
       "      <td>76.269997</td>\n",
       "      <td>2025-02-13</td>\n",
       "      <td>PYPL</td>\n",
       "    </tr>\n",
       "    <tr>\n",
       "      <th>1094</th>\n",
       "      <td>76.25</td>\n",
       "      <td>2025-02-13</td>\n",
       "      <td>76.589996</td>\n",
       "      <td>2025-02-14</td>\n",
       "      <td>PYPL</td>\n",
       "    </tr>\n",
       "  </tbody>\n",
       "</table>\n",
       "<p>1095 rows × 5 columns</p>\n",
       "</div>"
      ],
      "text/plain": [
       "      estimated_price   last_date  last_close estimated_date ticker\n",
       "0                7.15  2024-04-02    7.200000     2024-04-03   SOFI\n",
       "1                7.45  2024-04-03    7.540000     2024-04-04   SOFI\n",
       "2                7.25  2024-04-04    7.310000     2024-04-05   SOFI\n",
       "3                7.35  2024-04-05    7.400000     2024-04-08   SOFI\n",
       "4                7.85  2024-04-08    7.760000     2024-04-09   SOFI\n",
       "...               ...         ...         ...            ...    ...\n",
       "1090            76.45  2025-02-07   77.309998     2025-02-10   PYPL\n",
       "1091            78.50  2025-02-10   78.239998     2025-02-11   PYPL\n",
       "1092            75.40  2025-02-11   76.209999     2025-02-12   PYPL\n",
       "1093            75.46  2025-02-12   76.269997     2025-02-13   PYPL\n",
       "1094            76.25  2025-02-13   76.589996     2025-02-14   PYPL\n",
       "\n",
       "[1095 rows x 5 columns]"
      ]
     },
     "execution_count": 233,
     "metadata": {},
     "output_type": "execute_result"
    }
   ],
   "source": [
    "sentiment_price_llm_df = pd.read_csv('SENTIMENT_PRICE.csv')\n",
    "sentiment_price_llm_df"
   ]
  },
  {
   "cell_type": "markdown",
   "id": "c3b060db-590a-4a8e-a94d-6fd8574e20af",
   "metadata": {},
   "source": [
    "#### Binary Labeling"
   ]
  },
  {
   "cell_type": "code",
   "execution_count": 235,
   "id": "d7af6ae4-f224-4168-8a5b-a9db6043c05a",
   "metadata": {},
   "outputs": [],
   "source": [
    "sentiment_price_llm_df = sentiment_price_llm_df.sort_values([\"ticker\", \"last_date\"]).copy()\n",
    "\n",
    "sentiment_price_llm_df[\"actual_close\"] = sentiment_price_llm_df.groupby(\"ticker\")[\"last_close\"].shift(-1)\n",
    "\n",
    "sentiment_price_llm_df = sentiment_price_llm_df.dropna(subset=[\"actual_close\"])\n",
    "\n",
    "# binary labels\n",
    "sentiment_price_llm_df[\"actual_up\"] = (sentiment_price_llm_df[\"actual_close\"] > sentiment_price_llm_df[\"last_close\"]).astype(int)\n",
    "sentiment_price_llm_df[\"pred_up\"]   = (sentiment_price_llm_df[\"estimated_price\"] > sentiment_price_llm_df[\"last_close\"]).astype(int)"
   ]
  },
  {
   "cell_type": "code",
   "execution_count": 248,
   "id": "642a9a6b-14de-4f69-845a-9d4a000ddaa8",
   "metadata": {},
   "outputs": [],
   "source": [
    "llm_df_subset = df[df['ticker'].isin(acc_by_ticker_sentiment_llm['ticker'])]"
   ]
  },
  {
   "cell_type": "markdown",
   "id": "f0593775-eaf6-4c02-8d7d-be2138bc45b0",
   "metadata": {},
   "source": [
    "### 3.1 Accuracy"
   ]
  },
  {
   "cell_type": "code",
   "execution_count": 239,
   "id": "7d760c92-150a-4658-b628-825298c4a3ee",
   "metadata": {},
   "outputs": [
    {
     "data": {
      "text/html": [
       "<div>\n",
       "<style scoped>\n",
       "    .dataframe tbody tr th:only-of-type {\n",
       "        vertical-align: middle;\n",
       "    }\n",
       "\n",
       "    .dataframe tbody tr th {\n",
       "        vertical-align: top;\n",
       "    }\n",
       "\n",
       "    .dataframe thead th {\n",
       "        text-align: right;\n",
       "    }\n",
       "</style>\n",
       "<table border=\"1\" class=\"dataframe\">\n",
       "  <thead>\n",
       "    <tr style=\"text-align: right;\">\n",
       "      <th></th>\n",
       "      <th>ticker</th>\n",
       "      <th>accuracy</th>\n",
       "    </tr>\n",
       "  </thead>\n",
       "  <tbody>\n",
       "    <tr>\n",
       "      <th>0</th>\n",
       "      <td>AAPL</td>\n",
       "      <td>0.550459</td>\n",
       "    </tr>\n",
       "    <tr>\n",
       "      <th>1</th>\n",
       "      <td>HIMS</td>\n",
       "      <td>0.536697</td>\n",
       "    </tr>\n",
       "    <tr>\n",
       "      <th>2</th>\n",
       "      <td>HOOD</td>\n",
       "      <td>0.536697</td>\n",
       "    </tr>\n",
       "    <tr>\n",
       "      <th>3</th>\n",
       "      <td>PYPL</td>\n",
       "      <td>0.486239</td>\n",
       "    </tr>\n",
       "    <tr>\n",
       "      <th>4</th>\n",
       "      <td>SOFI</td>\n",
       "      <td>0.449541</td>\n",
       "    </tr>\n",
       "  </tbody>\n",
       "</table>\n",
       "</div>"
      ],
      "text/plain": [
       "  ticker  accuracy\n",
       "0   AAPL  0.550459\n",
       "1   HIMS  0.536697\n",
       "2   HOOD  0.536697\n",
       "3   PYPL  0.486239\n",
       "4   SOFI  0.449541"
      ]
     },
     "execution_count": 239,
     "metadata": {},
     "output_type": "execute_result"
    }
   ],
   "source": [
    "acc_by_ticker_sentiment_llm = (\n",
    "    sentiment_price_llm_df.groupby(\"ticker\")[[\"actual_up\", \"pred_up\"]]\n",
    "      .apply(lambda g: accuracy_score(g[\"actual_up\"], g[\"pred_up\"]),\n",
    "            include_groups=False)\n",
    "      .rename(\"accuracy\")\n",
    "      .reset_index()\n",
    ")\n",
    "acc_by_ticker_sentiment_llm"
   ]
  },
  {
   "cell_type": "code",
   "execution_count": 454,
   "id": "cefc40c9-5068-40a2-a006-9eaa21fa7066",
   "metadata": {},
   "outputs": [
    {
     "name": "stdout",
     "output_type": "stream",
     "text": [
      "Overall Accuracy (LLM with sentiment): 0.5119\n"
     ]
    }
   ],
   "source": [
    "overall_acc_sentiment_llm  = accuracy_score(sentiment_price_llm_df[\"actual_up\"], sentiment_price_llm_df[\"pred_up\"])\n",
    "print(f\"Overall Accuracy (LLM with sentiment): {overall_acc_sentiment_llm:.4}\")"
   ]
  },
  {
   "cell_type": "markdown",
   "id": "984d2012-8c1e-4cd3-968b-4193eebb9e14",
   "metadata": {},
   "source": [
    "Compare this result with the earlier result where no sentiment data was provided"
   ]
  },
  {
   "cell_type": "code",
   "execution_count": 245,
   "id": "49086c69-67eb-4a58-8c3a-f31f917290c4",
   "metadata": {},
   "outputs": [
    {
     "data": {
      "text/html": [
       "<div>\n",
       "<style scoped>\n",
       "    .dataframe tbody tr th:only-of-type {\n",
       "        vertical-align: middle;\n",
       "    }\n",
       "\n",
       "    .dataframe tbody tr th {\n",
       "        vertical-align: top;\n",
       "    }\n",
       "\n",
       "    .dataframe thead th {\n",
       "        text-align: right;\n",
       "    }\n",
       "</style>\n",
       "<table border=\"1\" class=\"dataframe\">\n",
       "  <thead>\n",
       "    <tr style=\"text-align: right;\">\n",
       "      <th></th>\n",
       "      <th>ticker</th>\n",
       "      <th>accuracy</th>\n",
       "    </tr>\n",
       "  </thead>\n",
       "  <tbody>\n",
       "    <tr>\n",
       "      <th>0</th>\n",
       "      <td>AAPL</td>\n",
       "      <td>0.545872</td>\n",
       "    </tr>\n",
       "    <tr>\n",
       "      <th>85</th>\n",
       "      <td>HIMS</td>\n",
       "      <td>0.550459</td>\n",
       "    </tr>\n",
       "    <tr>\n",
       "      <th>88</th>\n",
       "      <td>HOOD</td>\n",
       "      <td>0.518349</td>\n",
       "    </tr>\n",
       "    <tr>\n",
       "      <th>99</th>\n",
       "      <td>PYPL</td>\n",
       "      <td>0.463303</td>\n",
       "    </tr>\n",
       "    <tr>\n",
       "      <th>101</th>\n",
       "      <td>SOFI</td>\n",
       "      <td>0.422018</td>\n",
       "    </tr>\n",
       "  </tbody>\n",
       "</table>\n",
       "</div>"
      ],
      "text/plain": [
       "    ticker  accuracy\n",
       "0     AAPL  0.545872\n",
       "85    HIMS  0.550459\n",
       "88    HOOD  0.518349\n",
       "99    PYPL  0.463303\n",
       "101   SOFI  0.422018"
      ]
     },
     "execution_count": 245,
     "metadata": {},
     "output_type": "execute_result"
    }
   ],
   "source": [
    "acc_by_ticker_llm_subset = acc_by_ticker_llm[acc_by_ticker_llm['ticker'].isin(acc_by_ticker_sentiment_llm['ticker'])]\n",
    "acc_by_ticker_llm_subset"
   ]
  },
  {
   "cell_type": "code",
   "execution_count": 455,
   "id": "fa01838f-aa03-4283-961b-4962f3cef4c8",
   "metadata": {},
   "outputs": [
    {
     "name": "stdout",
     "output_type": "stream",
     "text": [
      "Overall Accuracy (LLM): 0.5000\n"
     ]
    }
   ],
   "source": [
    "overall_acc_llm_subset  = accuracy_score(llm_df_subset[\"actual_up\"], llm_df_subset[\"pred_up\"])\n",
    "print(f\"Overall Accuracy (LLM): {overall_acc_llm_subset:.4f}\")"
   ]
  },
  {
   "cell_type": "markdown",
   "id": "c6e77340-cf59-4e57-aff2-a6f9370a6728",
   "metadata": {},
   "source": [
    "### F1 Score"
   ]
  },
  {
   "cell_type": "code",
   "execution_count": 254,
   "id": "a0e1d645-57ed-41b4-a233-13d5d300a5a1",
   "metadata": {},
   "outputs": [
    {
     "data": {
      "text/html": [
       "<div>\n",
       "<style scoped>\n",
       "    .dataframe tbody tr th:only-of-type {\n",
       "        vertical-align: middle;\n",
       "    }\n",
       "\n",
       "    .dataframe tbody tr th {\n",
       "        vertical-align: top;\n",
       "    }\n",
       "\n",
       "    .dataframe thead th {\n",
       "        text-align: right;\n",
       "    }\n",
       "</style>\n",
       "<table border=\"1\" class=\"dataframe\">\n",
       "  <thead>\n",
       "    <tr style=\"text-align: right;\">\n",
       "      <th></th>\n",
       "      <th>ticker</th>\n",
       "      <th>f1_score</th>\n",
       "    </tr>\n",
       "  </thead>\n",
       "  <tbody>\n",
       "    <tr>\n",
       "      <th>0</th>\n",
       "      <td>AAPL</td>\n",
       "      <td>0.662069</td>\n",
       "    </tr>\n",
       "    <tr>\n",
       "      <th>1</th>\n",
       "      <td>HIMS</td>\n",
       "      <td>0.594378</td>\n",
       "    </tr>\n",
       "    <tr>\n",
       "      <th>2</th>\n",
       "      <td>HOOD</td>\n",
       "      <td>0.655290</td>\n",
       "    </tr>\n",
       "    <tr>\n",
       "      <th>3</th>\n",
       "      <td>PYPL</td>\n",
       "      <td>0.582090</td>\n",
       "    </tr>\n",
       "    <tr>\n",
       "      <th>4</th>\n",
       "      <td>SOFI</td>\n",
       "      <td>0.491525</td>\n",
       "    </tr>\n",
       "  </tbody>\n",
       "</table>\n",
       "</div>"
      ],
      "text/plain": [
       "  ticker  f1_score\n",
       "0   AAPL  0.662069\n",
       "1   HIMS  0.594378\n",
       "2   HOOD  0.655290\n",
       "3   PYPL  0.582090\n",
       "4   SOFI  0.491525"
      ]
     },
     "execution_count": 254,
     "metadata": {},
     "output_type": "execute_result"
    }
   ],
   "source": [
    "scores_result_llm_sentiment = (\n",
    "    sentiment_price_llm_df.groupby(\"ticker\")\n",
    "      .apply(lambda g: f1_score(g[\"actual_up\"], g[\"pred_up\"]),\n",
    "            include_groups=False)\n",
    "      .rename(\"f1_score\")\n",
    "      .reset_index()\n",
    ")\n",
    "scores_result_llm_sentiment"
   ]
  },
  {
   "cell_type": "code",
   "execution_count": 456,
   "id": "47edc518-11a5-4a8b-bee5-511462ebe63e",
   "metadata": {},
   "outputs": [
    {
     "name": "stdout",
     "output_type": "stream",
     "text": [
      "Overall F1 score (LLM): 0.6018\n"
     ]
    }
   ],
   "source": [
    "overall_f1_llm_sentiment = f1_score(sentiment_price_llm_df[\"actual_up\"], sentiment_price_llm_df[\"pred_up\"])\n",
    "print(f\"Overall F1 score (LLM): {overall_f1_llm_sentiment:.4f}\")"
   ]
  },
  {
   "cell_type": "code",
   "execution_count": 251,
   "id": "61537a30-e59a-4036-b389-f5c4b8b4bc0a",
   "metadata": {},
   "outputs": [
    {
     "data": {
      "text/html": [
       "<div>\n",
       "<style scoped>\n",
       "    .dataframe tbody tr th:only-of-type {\n",
       "        vertical-align: middle;\n",
       "    }\n",
       "\n",
       "    .dataframe tbody tr th {\n",
       "        vertical-align: top;\n",
       "    }\n",
       "\n",
       "    .dataframe thead th {\n",
       "        text-align: right;\n",
       "    }\n",
       "</style>\n",
       "<table border=\"1\" class=\"dataframe\">\n",
       "  <thead>\n",
       "    <tr style=\"text-align: right;\">\n",
       "      <th></th>\n",
       "      <th>ticker</th>\n",
       "      <th>f1_score</th>\n",
       "    </tr>\n",
       "  </thead>\n",
       "  <tbody>\n",
       "    <tr>\n",
       "      <th>0</th>\n",
       "      <td>AAPL</td>\n",
       "      <td>0.657439</td>\n",
       "    </tr>\n",
       "    <tr>\n",
       "      <th>1</th>\n",
       "      <td>HIMS</td>\n",
       "      <td>0.614173</td>\n",
       "    </tr>\n",
       "    <tr>\n",
       "      <th>2</th>\n",
       "      <td>HOOD</td>\n",
       "      <td>0.641638</td>\n",
       "    </tr>\n",
       "    <tr>\n",
       "      <th>3</th>\n",
       "      <td>PYPL</td>\n",
       "      <td>0.558491</td>\n",
       "    </tr>\n",
       "    <tr>\n",
       "      <th>4</th>\n",
       "      <td>SOFI</td>\n",
       "      <td>0.456897</td>\n",
       "    </tr>\n",
       "  </tbody>\n",
       "</table>\n",
       "</div>"
      ],
      "text/plain": [
       "  ticker  f1_score\n",
       "0   AAPL  0.657439\n",
       "1   HIMS  0.614173\n",
       "2   HOOD  0.641638\n",
       "3   PYPL  0.558491\n",
       "4   SOFI  0.456897"
      ]
     },
     "execution_count": 251,
     "metadata": {},
     "output_type": "execute_result"
    }
   ],
   "source": [
    "scores_result_llm_subset = (\n",
    "    llm_df_subset.groupby(\"ticker\")\n",
    "      .apply(lambda g: f1_score(g[\"actual_up\"], g[\"pred_up\"]),\n",
    "            include_groups=False)\n",
    "      .rename(\"f1_score\")\n",
    "      .reset_index()\n",
    ")\n",
    "scores_result_llm_subset"
   ]
  },
  {
   "cell_type": "code",
   "execution_count": 457,
   "id": "de0fed30-0d88-4698-9e27-b0b73e849753",
   "metadata": {},
   "outputs": [
    {
     "name": "stdout",
     "output_type": "stream",
     "text": [
      "Overall F1 score (LLM): 0.5911\n"
     ]
    }
   ],
   "source": [
    "overall_f1_llm_subset = f1_score(llm_df_subset[\"actual_up\"], llm_df_subset[\"pred_up\"])\n",
    "print(f\"Overall F1 score (LLM): {overall_f1_llm_subset:.4f}\")"
   ]
  },
  {
   "cell_type": "markdown",
   "id": "06f3eb62-d1ad-4314-b685-d09a5b7d8873",
   "metadata": {},
   "source": [
    "### MAPE"
   ]
  },
  {
   "cell_type": "code",
   "execution_count": 249,
   "id": "eeb36a48-74b8-4a82-b67c-05e56a58cd13",
   "metadata": {},
   "outputs": [
    {
     "data": {
      "text/html": [
       "<div>\n",
       "<style scoped>\n",
       "    .dataframe tbody tr th:only-of-type {\n",
       "        vertical-align: middle;\n",
       "    }\n",
       "\n",
       "    .dataframe tbody tr th {\n",
       "        vertical-align: top;\n",
       "    }\n",
       "\n",
       "    .dataframe thead th {\n",
       "        text-align: right;\n",
       "    }\n",
       "</style>\n",
       "<table border=\"1\" class=\"dataframe\">\n",
       "  <thead>\n",
       "    <tr style=\"text-align: right;\">\n",
       "      <th></th>\n",
       "      <th>ticker</th>\n",
       "      <th>MAPE</th>\n",
       "    </tr>\n",
       "  </thead>\n",
       "  <tbody>\n",
       "    <tr>\n",
       "      <th>0</th>\n",
       "      <td>AAPL</td>\n",
       "      <td>0.012275</td>\n",
       "    </tr>\n",
       "    <tr>\n",
       "      <th>1</th>\n",
       "      <td>HIMS</td>\n",
       "      <td>0.044727</td>\n",
       "    </tr>\n",
       "    <tr>\n",
       "      <th>2</th>\n",
       "      <td>HOOD</td>\n",
       "      <td>0.032941</td>\n",
       "    </tr>\n",
       "    <tr>\n",
       "      <th>3</th>\n",
       "      <td>PYPL</td>\n",
       "      <td>0.017679</td>\n",
       "    </tr>\n",
       "    <tr>\n",
       "      <th>4</th>\n",
       "      <td>SOFI</td>\n",
       "      <td>0.028304</td>\n",
       "    </tr>\n",
       "  </tbody>\n",
       "</table>\n",
       "</div>"
      ],
      "text/plain": [
       "  ticker      MAPE\n",
       "0   AAPL  0.012275\n",
       "1   HIMS  0.044727\n",
       "2   HOOD  0.032941\n",
       "3   PYPL  0.017679\n",
       "4   SOFI  0.028304"
      ]
     },
     "execution_count": 249,
     "metadata": {},
     "output_type": "execute_result"
    }
   ],
   "source": [
    "mape_by_ticker_llm_sentiment = (\n",
    "    sentiment_price_llm_df.groupby(\"ticker\")[[\"actual_close\", \"estimated_price\"]]\n",
    "      .apply(lambda g: mean_absolute_percentage_error(\n",
    "                         g[\"actual_close\"], g[\"estimated_price\"]),\n",
    "             include_groups=False)\n",
    "      .rename(\"MAPE\")\n",
    "      .reset_index()\n",
    ")\n",
    "mape_by_ticker_llm_sentiment"
   ]
  },
  {
   "cell_type": "code",
   "execution_count": 458,
   "id": "1e045e85-8452-42cc-a0c8-949d75b29d47",
   "metadata": {},
   "outputs": [
    {
     "name": "stdout",
     "output_type": "stream",
     "text": [
      "Overall MAPE (LLM with sentiment): 2.718%\n"
     ]
    }
   ],
   "source": [
    "overall_mape_llm_sentiment = mean_absolute_percentage_error(\n",
    "                         sentiment_price_llm_df[\"actual_close\"],\n",
    "                         sentiment_price_llm_df[\"estimated_price\"])\n",
    "print(f\"Overall MAPE (LLM with sentiment): {overall_mape_llm_sentiment*100:.3f}%\")"
   ]
  },
  {
   "cell_type": "code",
   "execution_count": 250,
   "id": "d97d539c-8ed4-4de7-9989-bcfda2922e43",
   "metadata": {},
   "outputs": [
    {
     "data": {
      "text/html": [
       "<div>\n",
       "<style scoped>\n",
       "    .dataframe tbody tr th:only-of-type {\n",
       "        vertical-align: middle;\n",
       "    }\n",
       "\n",
       "    .dataframe tbody tr th {\n",
       "        vertical-align: top;\n",
       "    }\n",
       "\n",
       "    .dataframe thead th {\n",
       "        text-align: right;\n",
       "    }\n",
       "</style>\n",
       "<table border=\"1\" class=\"dataframe\">\n",
       "  <thead>\n",
       "    <tr style=\"text-align: right;\">\n",
       "      <th></th>\n",
       "      <th>ticker</th>\n",
       "      <th>MAPE</th>\n",
       "    </tr>\n",
       "  </thead>\n",
       "  <tbody>\n",
       "    <tr>\n",
       "      <th>0</th>\n",
       "      <td>AAPL</td>\n",
       "      <td>0.012707</td>\n",
       "    </tr>\n",
       "    <tr>\n",
       "      <th>1</th>\n",
       "      <td>HIMS</td>\n",
       "      <td>0.044803</td>\n",
       "    </tr>\n",
       "    <tr>\n",
       "      <th>2</th>\n",
       "      <td>HOOD</td>\n",
       "      <td>0.033532</td>\n",
       "    </tr>\n",
       "    <tr>\n",
       "      <th>3</th>\n",
       "      <td>PYPL</td>\n",
       "      <td>0.017851</td>\n",
       "    </tr>\n",
       "    <tr>\n",
       "      <th>4</th>\n",
       "      <td>SOFI</td>\n",
       "      <td>0.028747</td>\n",
       "    </tr>\n",
       "  </tbody>\n",
       "</table>\n",
       "</div>"
      ],
      "text/plain": [
       "  ticker      MAPE\n",
       "0   AAPL  0.012707\n",
       "1   HIMS  0.044803\n",
       "2   HOOD  0.033532\n",
       "3   PYPL  0.017851\n",
       "4   SOFI  0.028747"
      ]
     },
     "execution_count": 250,
     "metadata": {},
     "output_type": "execute_result"
    }
   ],
   "source": [
    "mape_by_ticker_llm_subset = (\n",
    "    llm_df_subset.groupby(\"ticker\")[[\"actual_close\", \"estimated_price\"]]\n",
    "      .apply(lambda g: mean_absolute_percentage_error(\n",
    "                         g[\"actual_close\"], g[\"estimated_price\"]),\n",
    "             include_groups=False)\n",
    "      .rename(\"MAPE\")                  # fraction (e.g. 0.045 → 4.5 %)\n",
    "      .reset_index()\n",
    ")\n",
    "mape_by_ticker_llm_subset"
   ]
  },
  {
   "cell_type": "code",
   "execution_count": 459,
   "id": "5d1cf1b9-c057-4e90-8679-dbfcd5b5cd8e",
   "metadata": {},
   "outputs": [
    {
     "name": "stdout",
     "output_type": "stream",
     "text": [
      "Overall MAPE (LLM): 2.753%\n"
     ]
    }
   ],
   "source": [
    "overall_mape_llm_subset = mean_absolute_percentage_error(\n",
    "                         llm_df_subset[\"actual_close\"],\n",
    "                         llm_df_subset[\"estimated_price\"])\n",
    "print(f\"Overall MAPE (LLM): {overall_mape_llm_subset*100:.3f}%\")"
   ]
  },
  {
   "cell_type": "code",
   "execution_count": 255,
   "id": "f45d7c84-205a-41a2-9593-a4791e15b554",
   "metadata": {},
   "outputs": [
    {
     "name": "stdout",
     "output_type": "stream",
     "text": [
      "  vol_bucket  Accuracy        F1      MAPE\n",
      "0    HighVol  0.534404  0.628885  0.039167\n",
      "1     LowVol  0.477064  0.564885  0.019768\n"
     ]
    }
   ],
   "source": [
    "llm_df_subset_tagged = flag_volatility(llm_df_subset, 0.6)\n",
    "\n",
    "scores_by_bucket_llm_subset = bucket_scores(llm_df_subset_tagged)\n",
    "print(scores_by_bucket_llm_subset)"
   ]
  },
  {
   "cell_type": "code",
   "execution_count": 256,
   "id": "9bb5d2b8-0b0e-46b4-836b-885ebf0a1d82",
   "metadata": {},
   "outputs": [
    {
     "name": "stdout",
     "output_type": "stream",
     "text": [
      "  vol_bucket  Accuracy        F1      MAPE\n",
      "0    HighVol  0.536697  0.627306  0.038834\n",
      "1     LowVol  0.495413  0.584383  0.019419\n"
     ]
    }
   ],
   "source": [
    "llm_df_sentiment_tagged = flag_volatility(sentiment_price_llm_df, 0.6)\n",
    "\n",
    "scores_by_bucket_llm_sentiment = bucket_scores(llm_df_sentiment_tagged)\n",
    "print(scores_by_bucket_llm_sentiment)"
   ]
  },
  {
   "cell_type": "code",
   "execution_count": 467,
   "id": "612fb5a8-812a-4352-8efa-7ccbd805dfb5",
   "metadata": {},
   "outputs": [],
   "source": [
    "sentiment_price_llm_df['model'] = 'LLM-SENTIMENT'\n",
    "df['model'] = 'LLM'"
   ]
  },
  {
   "cell_type": "code",
   "execution_count": 468,
   "id": "a4ed2387-795f-4ed1-baa0-f8f8ea8be6d9",
   "metadata": {},
   "outputs": [],
   "source": [
    "arima_df['model'] = 'ARIMA'"
   ]
  },
  {
   "cell_type": "code",
   "execution_count": 469,
   "id": "b5a49901-80ae-4c56-ac94-3ef6279fc89a",
   "metadata": {},
   "outputs": [],
   "source": [
    "ses_df['model'] = 'SES'"
   ]
  },
  {
   "cell_type": "code",
   "execution_count": 470,
   "id": "ec2c8931-b31a-4981-93fc-f79b0015714b",
   "metadata": {},
   "outputs": [
    {
     "data": {
      "text/html": [
       "<div>\n",
       "<style scoped>\n",
       "    .dataframe tbody tr th:only-of-type {\n",
       "        vertical-align: middle;\n",
       "    }\n",
       "\n",
       "    .dataframe tbody tr th {\n",
       "        vertical-align: top;\n",
       "    }\n",
       "\n",
       "    .dataframe thead th {\n",
       "        text-align: right;\n",
       "    }\n",
       "</style>\n",
       "<table border=\"1\" class=\"dataframe\">\n",
       "  <thead>\n",
       "    <tr style=\"text-align: right;\">\n",
       "      <th></th>\n",
       "      <th>ticker</th>\n",
       "      <th>last_date</th>\n",
       "      <th>last_close</th>\n",
       "      <th>estimated_date</th>\n",
       "      <th>estimated_price</th>\n",
       "      <th>model</th>\n",
       "      <th>actual_close</th>\n",
       "      <th>actual_up</th>\n",
       "      <th>pred_up</th>\n",
       "    </tr>\n",
       "  </thead>\n",
       "  <tbody>\n",
       "    <tr>\n",
       "      <th>0</th>\n",
       "      <td>AAPL</td>\n",
       "      <td>2024-05-14</td>\n",
       "      <td>187.007553</td>\n",
       "      <td>2024-05-15</td>\n",
       "      <td>185.860153</td>\n",
       "      <td>SES</td>\n",
       "      <td>189.292404</td>\n",
       "      <td>1</td>\n",
       "      <td>0</td>\n",
       "    </tr>\n",
       "    <tr>\n",
       "      <th>1</th>\n",
       "      <td>AAPL</td>\n",
       "      <td>2024-05-15</td>\n",
       "      <td>189.292404</td>\n",
       "      <td>2024-05-16</td>\n",
       "      <td>187.007553</td>\n",
       "      <td>SES</td>\n",
       "      <td>189.412125</td>\n",
       "      <td>1</td>\n",
       "      <td>0</td>\n",
       "    </tr>\n",
       "    <tr>\n",
       "      <th>2</th>\n",
       "      <td>AAPL</td>\n",
       "      <td>2024-05-16</td>\n",
       "      <td>189.412125</td>\n",
       "      <td>2024-05-17</td>\n",
       "      <td>189.292404</td>\n",
       "      <td>SES</td>\n",
       "      <td>189.442062</td>\n",
       "      <td>1</td>\n",
       "      <td>0</td>\n",
       "    </tr>\n",
       "    <tr>\n",
       "      <th>3</th>\n",
       "      <td>AAPL</td>\n",
       "      <td>2024-05-17</td>\n",
       "      <td>189.442062</td>\n",
       "      <td>2024-05-20</td>\n",
       "      <td>189.412125</td>\n",
       "      <td>SES</td>\n",
       "      <td>190.609421</td>\n",
       "      <td>1</td>\n",
       "      <td>0</td>\n",
       "    </tr>\n",
       "    <tr>\n",
       "      <th>4</th>\n",
       "      <td>AAPL</td>\n",
       "      <td>2024-05-20</td>\n",
       "      <td>190.609421</td>\n",
       "      <td>2024-05-21</td>\n",
       "      <td>189.442062</td>\n",
       "      <td>SES</td>\n",
       "      <td>191.916473</td>\n",
       "      <td>1</td>\n",
       "      <td>0</td>\n",
       "    </tr>\n",
       "    <tr>\n",
       "      <th>...</th>\n",
       "      <td>...</td>\n",
       "      <td>...</td>\n",
       "      <td>...</td>\n",
       "      <td>...</td>\n",
       "      <td>...</td>\n",
       "      <td>...</td>\n",
       "      <td>...</td>\n",
       "      <td>...</td>\n",
       "      <td>...</td>\n",
       "    </tr>\n",
       "    <tr>\n",
       "      <th>19164</th>\n",
       "      <td>XOM</td>\n",
       "      <td>2025-02-04</td>\n",
       "      <td>109.959999</td>\n",
       "      <td>2025-02-05</td>\n",
       "      <td>107.207955</td>\n",
       "      <td>SES</td>\n",
       "      <td>109.879997</td>\n",
       "      <td>0</td>\n",
       "      <td>0</td>\n",
       "    </tr>\n",
       "    <tr>\n",
       "      <th>19165</th>\n",
       "      <td>XOM</td>\n",
       "      <td>2025-02-05</td>\n",
       "      <td>109.879997</td>\n",
       "      <td>2025-02-06</td>\n",
       "      <td>109.068492</td>\n",
       "      <td>SES</td>\n",
       "      <td>108.430000</td>\n",
       "      <td>0</td>\n",
       "      <td>0</td>\n",
       "    </tr>\n",
       "    <tr>\n",
       "      <th>19166</th>\n",
       "      <td>XOM</td>\n",
       "      <td>2025-02-06</td>\n",
       "      <td>108.430000</td>\n",
       "      <td>2025-02-07</td>\n",
       "      <td>109.661521</td>\n",
       "      <td>SES</td>\n",
       "      <td>108.889999</td>\n",
       "      <td>1</td>\n",
       "      <td>1</td>\n",
       "    </tr>\n",
       "    <tr>\n",
       "      <th>19167</th>\n",
       "      <td>XOM</td>\n",
       "      <td>2025-02-07</td>\n",
       "      <td>108.889999</td>\n",
       "      <td>2025-02-10</td>\n",
       "      <td>108.826546</td>\n",
       "      <td>SES</td>\n",
       "      <td>109.986206</td>\n",
       "      <td>1</td>\n",
       "      <td>0</td>\n",
       "    </tr>\n",
       "    <tr>\n",
       "      <th>19168</th>\n",
       "      <td>XOM</td>\n",
       "      <td>2025-02-10</td>\n",
       "      <td>109.986206</td>\n",
       "      <td>2025-02-11</td>\n",
       "      <td>108.868650</td>\n",
       "      <td>SES</td>\n",
       "      <td>110.680000</td>\n",
       "      <td>1</td>\n",
       "      <td>0</td>\n",
       "    </tr>\n",
       "  </tbody>\n",
       "</table>\n",
       "<p>19066 rows × 9 columns</p>\n",
       "</div>"
      ],
      "text/plain": [
       "      ticker   last_date  last_close estimated_date  estimated_price model  \\\n",
       "0       AAPL  2024-05-14  187.007553     2024-05-15       185.860153   SES   \n",
       "1       AAPL  2024-05-15  189.292404     2024-05-16       187.007553   SES   \n",
       "2       AAPL  2024-05-16  189.412125     2024-05-17       189.292404   SES   \n",
       "3       AAPL  2024-05-17  189.442062     2024-05-20       189.412125   SES   \n",
       "4       AAPL  2024-05-20  190.609421     2024-05-21       189.442062   SES   \n",
       "...      ...         ...         ...            ...              ...   ...   \n",
       "19164    XOM  2025-02-04  109.959999     2025-02-05       107.207955   SES   \n",
       "19165    XOM  2025-02-05  109.879997     2025-02-06       109.068492   SES   \n",
       "19166    XOM  2025-02-06  108.430000     2025-02-07       109.661521   SES   \n",
       "19167    XOM  2025-02-07  108.889999     2025-02-10       108.826546   SES   \n",
       "19168    XOM  2025-02-10  109.986206     2025-02-11       108.868650   SES   \n",
       "\n",
       "       actual_close  actual_up  pred_up  \n",
       "0        189.292404          1        0  \n",
       "1        189.412125          1        0  \n",
       "2        189.442062          1        0  \n",
       "3        190.609421          1        0  \n",
       "4        191.916473          1        0  \n",
       "...             ...        ...      ...  \n",
       "19164    109.879997          0        0  \n",
       "19165    108.430000          0        0  \n",
       "19166    108.889999          1        1  \n",
       "19167    109.986206          1        0  \n",
       "19168    110.680000          1        0  \n",
       "\n",
       "[19066 rows x 9 columns]"
      ]
     },
     "execution_count": 470,
     "metadata": {},
     "output_type": "execute_result"
    }
   ],
   "source": [
    "ses_df"
   ]
  },
  {
   "cell_type": "code",
   "execution_count": 471,
   "id": "d28f7b53-e4ed-457a-9eae-aa53d694106f",
   "metadata": {},
   "outputs": [],
   "source": [
    "agg_data = pd.concat([ses_df, arima_df, df, sentiment_price_llm_df])"
   ]
  },
  {
   "cell_type": "code",
   "execution_count": 472,
   "id": "a199cdae-9cd2-4612-b784-962b57056619",
   "metadata": {},
   "outputs": [
    {
     "data": {
      "text/html": [
       "<div>\n",
       "<style scoped>\n",
       "    .dataframe tbody tr th:only-of-type {\n",
       "        vertical-align: middle;\n",
       "    }\n",
       "\n",
       "    .dataframe tbody tr th {\n",
       "        vertical-align: top;\n",
       "    }\n",
       "\n",
       "    .dataframe thead th {\n",
       "        text-align: right;\n",
       "    }\n",
       "</style>\n",
       "<table border=\"1\" class=\"dataframe\">\n",
       "  <thead>\n",
       "    <tr style=\"text-align: right;\">\n",
       "      <th></th>\n",
       "      <th>ticker</th>\n",
       "      <th>last_date</th>\n",
       "      <th>last_close</th>\n",
       "      <th>estimated_date</th>\n",
       "      <th>estimated_price</th>\n",
       "      <th>model</th>\n",
       "      <th>actual_close</th>\n",
       "      <th>actual_up</th>\n",
       "      <th>pred_up</th>\n",
       "    </tr>\n",
       "  </thead>\n",
       "  <tbody>\n",
       "    <tr>\n",
       "      <th>0</th>\n",
       "      <td>AAPL</td>\n",
       "      <td>2024-05-14</td>\n",
       "      <td>187.007553</td>\n",
       "      <td>2024-05-15</td>\n",
       "      <td>185.860153</td>\n",
       "      <td>SES</td>\n",
       "      <td>189.292404</td>\n",
       "      <td>1</td>\n",
       "      <td>0</td>\n",
       "    </tr>\n",
       "    <tr>\n",
       "      <th>1</th>\n",
       "      <td>AAPL</td>\n",
       "      <td>2024-05-15</td>\n",
       "      <td>189.292404</td>\n",
       "      <td>2024-05-16</td>\n",
       "      <td>187.007553</td>\n",
       "      <td>SES</td>\n",
       "      <td>189.412125</td>\n",
       "      <td>1</td>\n",
       "      <td>0</td>\n",
       "    </tr>\n",
       "    <tr>\n",
       "      <th>2</th>\n",
       "      <td>AAPL</td>\n",
       "      <td>2024-05-16</td>\n",
       "      <td>189.412125</td>\n",
       "      <td>2024-05-17</td>\n",
       "      <td>189.292404</td>\n",
       "      <td>SES</td>\n",
       "      <td>189.442062</td>\n",
       "      <td>1</td>\n",
       "      <td>0</td>\n",
       "    </tr>\n",
       "    <tr>\n",
       "      <th>3</th>\n",
       "      <td>AAPL</td>\n",
       "      <td>2024-05-17</td>\n",
       "      <td>189.442062</td>\n",
       "      <td>2024-05-20</td>\n",
       "      <td>189.412125</td>\n",
       "      <td>SES</td>\n",
       "      <td>190.609421</td>\n",
       "      <td>1</td>\n",
       "      <td>0</td>\n",
       "    </tr>\n",
       "    <tr>\n",
       "      <th>4</th>\n",
       "      <td>AAPL</td>\n",
       "      <td>2024-05-20</td>\n",
       "      <td>190.609421</td>\n",
       "      <td>2024-05-21</td>\n",
       "      <td>189.442062</td>\n",
       "      <td>SES</td>\n",
       "      <td>191.916473</td>\n",
       "      <td>1</td>\n",
       "      <td>0</td>\n",
       "    </tr>\n",
       "    <tr>\n",
       "      <th>...</th>\n",
       "      <td>...</td>\n",
       "      <td>...</td>\n",
       "      <td>...</td>\n",
       "      <td>...</td>\n",
       "      <td>...</td>\n",
       "      <td>...</td>\n",
       "      <td>...</td>\n",
       "      <td>...</td>\n",
       "      <td>...</td>\n",
       "    </tr>\n",
       "    <tr>\n",
       "      <th>213</th>\n",
       "      <td>SOFI</td>\n",
       "      <td>2025-02-06</td>\n",
       "      <td>14.800000</td>\n",
       "      <td>2025-02-07</td>\n",
       "      <td>15.100000</td>\n",
       "      <td>LLM-SENTIMENT</td>\n",
       "      <td>14.910000</td>\n",
       "      <td>1</td>\n",
       "      <td>1</td>\n",
       "    </tr>\n",
       "    <tr>\n",
       "      <th>214</th>\n",
       "      <td>SOFI</td>\n",
       "      <td>2025-02-07</td>\n",
       "      <td>14.910000</td>\n",
       "      <td>2025-02-10</td>\n",
       "      <td>15.100000</td>\n",
       "      <td>LLM-SENTIMENT</td>\n",
       "      <td>15.130000</td>\n",
       "      <td>1</td>\n",
       "      <td>1</td>\n",
       "    </tr>\n",
       "    <tr>\n",
       "      <th>215</th>\n",
       "      <td>SOFI</td>\n",
       "      <td>2025-02-10</td>\n",
       "      <td>15.130000</td>\n",
       "      <td>2025-02-11</td>\n",
       "      <td>15.250000</td>\n",
       "      <td>LLM-SENTIMENT</td>\n",
       "      <td>14.830000</td>\n",
       "      <td>0</td>\n",
       "      <td>1</td>\n",
       "    </tr>\n",
       "    <tr>\n",
       "      <th>216</th>\n",
       "      <td>SOFI</td>\n",
       "      <td>2025-02-11</td>\n",
       "      <td>14.830000</td>\n",
       "      <td>2025-02-12</td>\n",
       "      <td>14.700000</td>\n",
       "      <td>LLM-SENTIMENT</td>\n",
       "      <td>14.770000</td>\n",
       "      <td>0</td>\n",
       "      <td>0</td>\n",
       "    </tr>\n",
       "    <tr>\n",
       "      <th>217</th>\n",
       "      <td>SOFI</td>\n",
       "      <td>2025-02-12</td>\n",
       "      <td>14.770000</td>\n",
       "      <td>2025-02-13</td>\n",
       "      <td>14.650000</td>\n",
       "      <td>LLM-SENTIMENT</td>\n",
       "      <td>15.190000</td>\n",
       "      <td>1</td>\n",
       "      <td>0</td>\n",
       "    </tr>\n",
       "  </tbody>\n",
       "</table>\n",
       "<p>61824 rows × 9 columns</p>\n",
       "</div>"
      ],
      "text/plain": [
       "    ticker   last_date  last_close estimated_date  estimated_price  \\\n",
       "0     AAPL  2024-05-14  187.007553     2024-05-15       185.860153   \n",
       "1     AAPL  2024-05-15  189.292404     2024-05-16       187.007553   \n",
       "2     AAPL  2024-05-16  189.412125     2024-05-17       189.292404   \n",
       "3     AAPL  2024-05-17  189.442062     2024-05-20       189.412125   \n",
       "4     AAPL  2024-05-20  190.609421     2024-05-21       189.442062   \n",
       "..     ...         ...         ...            ...              ...   \n",
       "213   SOFI  2025-02-06   14.800000     2025-02-07        15.100000   \n",
       "214   SOFI  2025-02-07   14.910000     2025-02-10        15.100000   \n",
       "215   SOFI  2025-02-10   15.130000     2025-02-11        15.250000   \n",
       "216   SOFI  2025-02-11   14.830000     2025-02-12        14.700000   \n",
       "217   SOFI  2025-02-12   14.770000     2025-02-13        14.650000   \n",
       "\n",
       "             model  actual_close  actual_up  pred_up  \n",
       "0              SES    189.292404          1        0  \n",
       "1              SES    189.412125          1        0  \n",
       "2              SES    189.442062          1        0  \n",
       "3              SES    190.609421          1        0  \n",
       "4              SES    191.916473          1        0  \n",
       "..             ...           ...        ...      ...  \n",
       "213  LLM-SENTIMENT     14.910000          1        1  \n",
       "214  LLM-SENTIMENT     15.130000          1        1  \n",
       "215  LLM-SENTIMENT     14.830000          0        1  \n",
       "216  LLM-SENTIMENT     14.770000          0        0  \n",
       "217  LLM-SENTIMENT     15.190000          1        0  \n",
       "\n",
       "[61824 rows x 9 columns]"
      ]
     },
     "execution_count": 472,
     "metadata": {},
     "output_type": "execute_result"
    }
   ],
   "source": [
    "agg_data"
   ]
  },
  {
   "cell_type": "code",
   "execution_count": 478,
   "id": "f715ca44-62e2-45c9-bc83-85b37febf192",
   "metadata": {},
   "outputs": [
    {
     "data": {
      "image/png": "[encoded data removed]",
      "text/plain": [
       "<Figure size 1200x600 with 1 Axes>"
      ]
     },
     "metadata": {},
     "output_type": "display_data"
    }
   ],
   "source": [
    "df_pypl = agg_data[agg_data['ticker'] == 'PYPL'].copy()\n",
    "\n",
    "df_pypl[\"estimated_date\"] = pd.to_datetime(df_pypl[\"estimated_date\"])\n",
    "pivot_df = df_pypl.pivot(index='estimated_date', columns='model', values='estimated_price')\n",
    "\n",
    "# Add actual close price\n",
    "pivot_df['Actual Close'] = df_pypl.groupby('estimated_date')['actual_close'].first()\n",
    "\n",
    "# Sort by date just in case\n",
    "pivot_df = pivot_df.sort_index()\n",
    "\n",
    "# Plot\n",
    "plt.figure(figsize=(12, 6))\n",
    "for column in pivot_df.columns:\n",
    "    plt.plot(pivot_df.index, pivot_df[column], label=column)\n",
    "\n",
    "plt.title('PayPal (PYPL) Price Forecasts vs Actual')\n",
    "plt.xlabel('Date')\n",
    "plt.ylabel('Price ($)')\n",
    "plt.legend()\n",
    "plt.grid(True)\n",
    "# Format date ticks: show one every 5 days\n",
    "plt.gca().xaxis.set_major_locator(mdates.DayLocator(interval=20))\n",
    "plt.gca().xaxis.set_major_formatter(mdates.DateFormatter('%Y-%m-%d'))\n",
    "plt.xticks(rotation=45)\n",
    "plt.savefig(\"pypl_price_comparison.png\", dpi=300, bbox_inches='tight')\n",
    "plt.tight_layout()\n",
    "plt.show()"
   ]
  },
  {
   "cell_type": "markdown",
   "id": "4fe7f5e5-997e-46cc-bf18-f20449ebe021",
   "metadata": {},
   "source": [
    "### Testing for Pretraining Bias in Predictions"
   ]
  },
  {
   "cell_type": "code",
   "execution_count": 479,
   "id": "9fa62ca8-d385-4aa2-88cd-47e4584d0e8f",
   "metadata": {},
   "outputs": [],
   "source": [
    "ticker_estimate_df = pd.read_csv('TICKER_ESTIMATE_PRICE.csv')"
   ]
  },
  {
   "cell_type": "code",
   "execution_count": 480,
   "id": "054fd6a4-f6e7-4749-ba79-07ea2b74a9e7",
   "metadata": {},
   "outputs": [
    {
     "data": {
      "text/html": [
       "<div>\n",
       "<style scoped>\n",
       "    .dataframe tbody tr th:only-of-type {\n",
       "        vertical-align: middle;\n",
       "    }\n",
       "\n",
       "    .dataframe tbody tr th {\n",
       "        vertical-align: top;\n",
       "    }\n",
       "\n",
       "    .dataframe thead th {\n",
       "        text-align: right;\n",
       "    }\n",
       "</style>\n",
       "<table border=\"1\" class=\"dataframe\">\n",
       "  <thead>\n",
       "    <tr style=\"text-align: right;\">\n",
       "      <th></th>\n",
       "      <th>estimated_ticker</th>\n",
       "      <th>last_date</th>\n",
       "      <th>last_close</th>\n",
       "      <th>estimated_date</th>\n",
       "      <th>ticker</th>\n",
       "    </tr>\n",
       "  </thead>\n",
       "  <tbody>\n",
       "    <tr>\n",
       "      <th>0</th>\n",
       "      <td>VFS</td>\n",
       "      <td>2024-04-02</td>\n",
       "      <td>7.200000</td>\n",
       "      <td>2024-04-03</td>\n",
       "      <td>SOFI</td>\n",
       "    </tr>\n",
       "    <tr>\n",
       "      <th>1</th>\n",
       "      <td>VFS</td>\n",
       "      <td>2024-04-03</td>\n",
       "      <td>7.540000</td>\n",
       "      <td>2024-04-04</td>\n",
       "      <td>SOFI</td>\n",
       "    </tr>\n",
       "    <tr>\n",
       "      <th>2</th>\n",
       "      <td>RIVN</td>\n",
       "      <td>2024-04-04</td>\n",
       "      <td>7.310000</td>\n",
       "      <td>2024-04-05</td>\n",
       "      <td>SOFI</td>\n",
       "    </tr>\n",
       "    <tr>\n",
       "      <th>3</th>\n",
       "      <td>SOS</td>\n",
       "      <td>2024-04-05</td>\n",
       "      <td>7.400000</td>\n",
       "      <td>2024-04-08</td>\n",
       "      <td>SOFI</td>\n",
       "    </tr>\n",
       "    <tr>\n",
       "      <th>4</th>\n",
       "      <td>RIVN</td>\n",
       "      <td>2024-04-08</td>\n",
       "      <td>7.760000</td>\n",
       "      <td>2024-04-09</td>\n",
       "      <td>SOFI</td>\n",
       "    </tr>\n",
       "    <tr>\n",
       "      <th>...</th>\n",
       "      <td>...</td>\n",
       "      <td>...</td>\n",
       "      <td>...</td>\n",
       "      <td>...</td>\n",
       "      <td>...</td>\n",
       "    </tr>\n",
       "    <tr>\n",
       "      <th>1090</th>\n",
       "      <td>BCRX</td>\n",
       "      <td>2025-02-07</td>\n",
       "      <td>42.549999</td>\n",
       "      <td>2025-02-10</td>\n",
       "      <td>HIMS</td>\n",
       "    </tr>\n",
       "    <tr>\n",
       "      <th>1091</th>\n",
       "      <td>GME</td>\n",
       "      <td>2025-02-10</td>\n",
       "      <td>44.770000</td>\n",
       "      <td>2025-02-11</td>\n",
       "      <td>HIMS</td>\n",
       "    </tr>\n",
       "    <tr>\n",
       "      <th>1092</th>\n",
       "      <td>GME</td>\n",
       "      <td>2025-02-11</td>\n",
       "      <td>43.580002</td>\n",
       "      <td>2025-02-12</td>\n",
       "      <td>HIMS</td>\n",
       "    </tr>\n",
       "    <tr>\n",
       "      <th>1093</th>\n",
       "      <td>GME</td>\n",
       "      <td>2025-02-12</td>\n",
       "      <td>46.340000</td>\n",
       "      <td>2025-02-13</td>\n",
       "      <td>HIMS</td>\n",
       "    </tr>\n",
       "    <tr>\n",
       "      <th>1094</th>\n",
       "      <td>GME</td>\n",
       "      <td>2025-02-13</td>\n",
       "      <td>59.180000</td>\n",
       "      <td>2025-02-14</td>\n",
       "      <td>HIMS</td>\n",
       "    </tr>\n",
       "  </tbody>\n",
       "</table>\n",
       "<p>1095 rows × 5 columns</p>\n",
       "</div>"
      ],
      "text/plain": [
       "     estimated_ticker   last_date  last_close estimated_date ticker\n",
       "0                 VFS  2024-04-02    7.200000     2024-04-03   SOFI\n",
       "1                 VFS  2024-04-03    7.540000     2024-04-04   SOFI\n",
       "2                RIVN  2024-04-04    7.310000     2024-04-05   SOFI\n",
       "3                 SOS  2024-04-05    7.400000     2024-04-08   SOFI\n",
       "4                RIVN  2024-04-08    7.760000     2024-04-09   SOFI\n",
       "...               ...         ...         ...            ...    ...\n",
       "1090             BCRX  2025-02-07   42.549999     2025-02-10   HIMS\n",
       "1091              GME  2025-02-10   44.770000     2025-02-11   HIMS\n",
       "1092              GME  2025-02-11   43.580002     2025-02-12   HIMS\n",
       "1093              GME  2025-02-12   46.340000     2025-02-13   HIMS\n",
       "1094              GME  2025-02-13   59.180000     2025-02-14   HIMS\n",
       "\n",
       "[1095 rows x 5 columns]"
      ]
     },
     "execution_count": 480,
     "metadata": {},
     "output_type": "execute_result"
    }
   ],
   "source": [
    "ticker_estimate_df"
   ]
  },
  {
   "cell_type": "code",
   "execution_count": 483,
   "id": "245d0fa5-f352-4de5-8419-0babaaf89314",
   "metadata": {},
   "outputs": [
    {
     "name": "stdout",
     "output_type": "stream",
     "text": [
      "  ticker  accuracy\n",
      "0   AAPL  0.132420\n",
      "1   HIMS  0.000000\n",
      "2   HOOD  0.018265\n",
      "3   PYPL  0.013699\n",
      "4   SOFI  0.000000\n"
     ]
    }
   ],
   "source": [
    "ticker_estimate_df['correct'] = ticker_estimate_df['estimated_ticker'] == ticker_estimate_df['ticker']\n",
    "\n",
    "accuracy_df = (\n",
    "    ticker_estimate_df.groupby('ticker')['correct']\n",
    "    .mean()\n",
    "    .reset_index()\n",
    "    .rename(columns={'correct': 'accuracy'})\n",
    ")\n",
    "\n",
    "print(accuracy_df)"
   ]
  },
  {
   "cell_type": "code",
   "execution_count": 484,
   "id": "800d39df-bb36-43ba-932f-9de750817d6e",
   "metadata": {},
   "outputs": [
    {
     "name": "stdout",
     "output_type": "stream",
     "text": [
      "Overall Mean Accuracy: 0.0329\n"
     ]
    }
   ],
   "source": [
    "overall_mean_accuracy = accuracy_df['accuracy'].mean()\n",
    "print(f\"Overall Mean Accuracy: {overall_mean_accuracy:.4f}\")  # e.g., 0.6825"
   ]
  },
  {
   "cell_type": "code",
   "execution_count": null,
   "id": "eaaae16d-fe4c-49ed-b93f-d8d62db8bb96",
   "metadata": {},
   "outputs": [],
   "source": []
  }
 ],
 "metadata": {
  "kernelspec": {
   "display_name": "Python 3 (ipykernel)",
   "language": "python",
   "name": "python3"
  },
  "language_info": {
   "codemirror_mode": {
    "name": "ipython",
    "version": 3
   },
   "file_extension": ".py",
   "mimetype": "text/x-python",
   "name": "python",
   "nbconvert_exporter": "python",
   "pygments_lexer": "ipython3",
   "version": "3.11.10"
  }
 },
 "nbformat": 4,
 "nbformat_minor": 5
}
